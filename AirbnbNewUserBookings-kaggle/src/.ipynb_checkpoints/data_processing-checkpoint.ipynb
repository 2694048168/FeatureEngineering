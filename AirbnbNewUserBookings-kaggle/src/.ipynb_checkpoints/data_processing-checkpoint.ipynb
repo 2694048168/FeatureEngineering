{
 "cells": [
  {
   "cell_type": "code",
   "execution_count": 1,
   "metadata": {},
   "outputs": [],
   "source": [
    "# importing neccessary libraries\n",
    "# 导入所需要的包\n",
    "\n",
    "# 数据处理\n",
    "import pandas as pd\n",
    "import numpy as np\n",
    "\n",
    "# 对数据进行绘制图形分析\n",
    "import matplotlib.pyplot as plt\n",
    "%matplotlib inline\n",
    "import seaborn as sns\n",
    "\n",
    "# 处理时间序列信息\n",
    "import datetime\n",
    "from datetime import date\n",
    "import os\n",
    "\n",
    "\n",
    "# LabelEncoder 编码，特征工程处理\n",
    "# 使用 sklearn 集成的\n",
    "from sklearn.preprocessing import LabelEncoder\n",
    "from sklearn.preprocessing import StandardScaler\n",
    "from sklearn.preprocessing import LabelBinarizer\n",
    "\n",
    "# 使用模型 XGBClassifier\n",
    "# 采用 xgboost 集成的\n",
    "from xgboost.sklearn import XGBClassifier\n",
    "\n",
    "# 利用 sklearn 集成的一些评测指标和模型选择\n",
    "import sklearn as sk\n",
    "from sklearn.metrics import *\n",
    "from sklearn.model_selection import *\n",
    "\n",
    "# 用于高效存储数据，读写高效，内存性能\n",
    "import pickle \n",
    "\n",
    "# 警告过滤器\n",
    "import warnings\n",
    "# # 警告过滤器用于控制警告的行为，如忽略匹配的警告\n",
    "warnings.filterwarnings('ignore')\n"
   ]
  },
  {
   "cell_type": "code",
   "execution_count": 2,
   "metadata": {},
   "outputs": [
    {
     "data": {
      "text/plain": [
       "((213451, 16), (62096, 15))"
      ]
     },
     "execution_count": 2,
     "metadata": {},
     "output_type": "execute_result"
    }
   ],
   "source": [
    "# Loading the Data\n",
    "# 加载数据集\n",
    "\n",
    "# 设置数据集搜索路径\n",
    "dataset_path = './../dataset/'\n",
    "\n",
    "# 加载 训练集 和 测试集\n",
    "df_train = pd.read_csv(dataset_path + 'train_users_2.csv.zip')\n",
    "df_test = pd.read_csv(dataset_path + 'test_users.csv.zip')\n",
    "\n",
    "df_train.shape, df_test.shape"
   ]
  },
  {
   "cell_type": "code",
   "execution_count": 3,
   "metadata": {},
   "outputs": [
    {
     "data": {
      "text/html": [
       "<div>\n",
       "<style scoped>\n",
       "    .dataframe tbody tr th:only-of-type {\n",
       "        vertical-align: middle;\n",
       "    }\n",
       "\n",
       "    .dataframe tbody tr th {\n",
       "        vertical-align: top;\n",
       "    }\n",
       "\n",
       "    .dataframe thead th {\n",
       "        text-align: right;\n",
       "    }\n",
       "</style>\n",
       "<table border=\"1\" class=\"dataframe\">\n",
       "  <thead>\n",
       "    <tr style=\"text-align: right;\">\n",
       "      <th></th>\n",
       "      <th>id</th>\n",
       "      <th>date_account_created</th>\n",
       "      <th>timestamp_first_active</th>\n",
       "      <th>date_first_booking</th>\n",
       "      <th>gender</th>\n",
       "      <th>age</th>\n",
       "      <th>signup_method</th>\n",
       "      <th>signup_flow</th>\n",
       "      <th>language</th>\n",
       "      <th>affiliate_channel</th>\n",
       "      <th>affiliate_provider</th>\n",
       "      <th>first_affiliate_tracked</th>\n",
       "      <th>signup_app</th>\n",
       "      <th>first_device_type</th>\n",
       "      <th>first_browser</th>\n",
       "      <th>country_destination</th>\n",
       "    </tr>\n",
       "  </thead>\n",
       "  <tbody>\n",
       "    <tr>\n",
       "      <th>0</th>\n",
       "      <td>gxn3p5htnn</td>\n",
       "      <td>2010-06-28</td>\n",
       "      <td>20090319043255</td>\n",
       "      <td>NaN</td>\n",
       "      <td>-unknown-</td>\n",
       "      <td>NaN</td>\n",
       "      <td>facebook</td>\n",
       "      <td>0</td>\n",
       "      <td>en</td>\n",
       "      <td>direct</td>\n",
       "      <td>direct</td>\n",
       "      <td>untracked</td>\n",
       "      <td>Web</td>\n",
       "      <td>Mac Desktop</td>\n",
       "      <td>Chrome</td>\n",
       "      <td>NDF</td>\n",
       "    </tr>\n",
       "    <tr>\n",
       "      <th>1</th>\n",
       "      <td>820tgsjxq7</td>\n",
       "      <td>2011-05-25</td>\n",
       "      <td>20090523174809</td>\n",
       "      <td>NaN</td>\n",
       "      <td>MALE</td>\n",
       "      <td>38.0</td>\n",
       "      <td>facebook</td>\n",
       "      <td>0</td>\n",
       "      <td>en</td>\n",
       "      <td>seo</td>\n",
       "      <td>google</td>\n",
       "      <td>untracked</td>\n",
       "      <td>Web</td>\n",
       "      <td>Mac Desktop</td>\n",
       "      <td>Chrome</td>\n",
       "      <td>NDF</td>\n",
       "    </tr>\n",
       "    <tr>\n",
       "      <th>2</th>\n",
       "      <td>4ft3gnwmtx</td>\n",
       "      <td>2010-09-28</td>\n",
       "      <td>20090609231247</td>\n",
       "      <td>2010-08-02</td>\n",
       "      <td>FEMALE</td>\n",
       "      <td>56.0</td>\n",
       "      <td>basic</td>\n",
       "      <td>3</td>\n",
       "      <td>en</td>\n",
       "      <td>direct</td>\n",
       "      <td>direct</td>\n",
       "      <td>untracked</td>\n",
       "      <td>Web</td>\n",
       "      <td>Windows Desktop</td>\n",
       "      <td>IE</td>\n",
       "      <td>US</td>\n",
       "    </tr>\n",
       "    <tr>\n",
       "      <th>3</th>\n",
       "      <td>bjjt8pjhuk</td>\n",
       "      <td>2011-12-05</td>\n",
       "      <td>20091031060129</td>\n",
       "      <td>2012-09-08</td>\n",
       "      <td>FEMALE</td>\n",
       "      <td>42.0</td>\n",
       "      <td>facebook</td>\n",
       "      <td>0</td>\n",
       "      <td>en</td>\n",
       "      <td>direct</td>\n",
       "      <td>direct</td>\n",
       "      <td>untracked</td>\n",
       "      <td>Web</td>\n",
       "      <td>Mac Desktop</td>\n",
       "      <td>Firefox</td>\n",
       "      <td>other</td>\n",
       "    </tr>\n",
       "    <tr>\n",
       "      <th>4</th>\n",
       "      <td>87mebub9p4</td>\n",
       "      <td>2010-09-14</td>\n",
       "      <td>20091208061105</td>\n",
       "      <td>2010-02-18</td>\n",
       "      <td>-unknown-</td>\n",
       "      <td>41.0</td>\n",
       "      <td>basic</td>\n",
       "      <td>0</td>\n",
       "      <td>en</td>\n",
       "      <td>direct</td>\n",
       "      <td>direct</td>\n",
       "      <td>untracked</td>\n",
       "      <td>Web</td>\n",
       "      <td>Mac Desktop</td>\n",
       "      <td>Chrome</td>\n",
       "      <td>US</td>\n",
       "    </tr>\n",
       "  </tbody>\n",
       "</table>\n",
       "</div>"
      ],
      "text/plain": [
       "           id date_account_created  timestamp_first_active date_first_booking  \\\n",
       "0  gxn3p5htnn           2010-06-28          20090319043255                NaN   \n",
       "1  820tgsjxq7           2011-05-25          20090523174809                NaN   \n",
       "2  4ft3gnwmtx           2010-09-28          20090609231247         2010-08-02   \n",
       "3  bjjt8pjhuk           2011-12-05          20091031060129         2012-09-08   \n",
       "4  87mebub9p4           2010-09-14          20091208061105         2010-02-18   \n",
       "\n",
       "      gender   age signup_method  signup_flow language affiliate_channel  \\\n",
       "0  -unknown-   NaN      facebook            0       en            direct   \n",
       "1       MALE  38.0      facebook            0       en               seo   \n",
       "2     FEMALE  56.0         basic            3       en            direct   \n",
       "3     FEMALE  42.0      facebook            0       en            direct   \n",
       "4  -unknown-  41.0         basic            0       en            direct   \n",
       "\n",
       "  affiliate_provider first_affiliate_tracked signup_app first_device_type  \\\n",
       "0             direct               untracked        Web       Mac Desktop   \n",
       "1             google               untracked        Web       Mac Desktop   \n",
       "2             direct               untracked        Web   Windows Desktop   \n",
       "3             direct               untracked        Web       Mac Desktop   \n",
       "4             direct               untracked        Web       Mac Desktop   \n",
       "\n",
       "  first_browser country_destination  \n",
       "0        Chrome                 NDF  \n",
       "1        Chrome                 NDF  \n",
       "2            IE                  US  \n",
       "3       Firefox               other  \n",
       "4        Chrome                  US  "
      ]
     },
     "execution_count": 3,
     "metadata": {},
     "output_type": "execute_result"
    }
   ],
   "source": [
    "df_train.head()"
   ]
  },
  {
   "cell_type": "code",
   "execution_count": 4,
   "metadata": {},
   "outputs": [
    {
     "data": {
      "text/html": [
       "<div>\n",
       "<style scoped>\n",
       "    .dataframe tbody tr th:only-of-type {\n",
       "        vertical-align: middle;\n",
       "    }\n",
       "\n",
       "    .dataframe tbody tr th {\n",
       "        vertical-align: top;\n",
       "    }\n",
       "\n",
       "    .dataframe thead th {\n",
       "        text-align: right;\n",
       "    }\n",
       "</style>\n",
       "<table border=\"1\" class=\"dataframe\">\n",
       "  <thead>\n",
       "    <tr style=\"text-align: right;\">\n",
       "      <th></th>\n",
       "      <th>id</th>\n",
       "      <th>date_account_created</th>\n",
       "      <th>timestamp_first_active</th>\n",
       "      <th>date_first_booking</th>\n",
       "      <th>gender</th>\n",
       "      <th>age</th>\n",
       "      <th>signup_method</th>\n",
       "      <th>signup_flow</th>\n",
       "      <th>language</th>\n",
       "      <th>affiliate_channel</th>\n",
       "      <th>affiliate_provider</th>\n",
       "      <th>first_affiliate_tracked</th>\n",
       "      <th>signup_app</th>\n",
       "      <th>first_device_type</th>\n",
       "      <th>first_browser</th>\n",
       "    </tr>\n",
       "  </thead>\n",
       "  <tbody>\n",
       "    <tr>\n",
       "      <th>62091</th>\n",
       "      <td>cv0na2lf5a</td>\n",
       "      <td>2014-09-30</td>\n",
       "      <td>20140930235232</td>\n",
       "      <td>NaN</td>\n",
       "      <td>-unknown-</td>\n",
       "      <td>31.0</td>\n",
       "      <td>basic</td>\n",
       "      <td>0</td>\n",
       "      <td>en</td>\n",
       "      <td>direct</td>\n",
       "      <td>direct</td>\n",
       "      <td>untracked</td>\n",
       "      <td>Web</td>\n",
       "      <td>Windows Desktop</td>\n",
       "      <td>IE</td>\n",
       "    </tr>\n",
       "    <tr>\n",
       "      <th>62092</th>\n",
       "      <td>zp8xfonng8</td>\n",
       "      <td>2014-09-30</td>\n",
       "      <td>20140930235306</td>\n",
       "      <td>NaN</td>\n",
       "      <td>-unknown-</td>\n",
       "      <td>NaN</td>\n",
       "      <td>basic</td>\n",
       "      <td>23</td>\n",
       "      <td>ko</td>\n",
       "      <td>direct</td>\n",
       "      <td>direct</td>\n",
       "      <td>untracked</td>\n",
       "      <td>Android</td>\n",
       "      <td>Android Phone</td>\n",
       "      <td>-unknown-</td>\n",
       "    </tr>\n",
       "    <tr>\n",
       "      <th>62093</th>\n",
       "      <td>fa6260ziny</td>\n",
       "      <td>2014-09-30</td>\n",
       "      <td>20140930235408</td>\n",
       "      <td>NaN</td>\n",
       "      <td>-unknown-</td>\n",
       "      <td>NaN</td>\n",
       "      <td>basic</td>\n",
       "      <td>0</td>\n",
       "      <td>de</td>\n",
       "      <td>direct</td>\n",
       "      <td>direct</td>\n",
       "      <td>linked</td>\n",
       "      <td>Web</td>\n",
       "      <td>Windows Desktop</td>\n",
       "      <td>Firefox</td>\n",
       "    </tr>\n",
       "    <tr>\n",
       "      <th>62094</th>\n",
       "      <td>87k0fy4ugm</td>\n",
       "      <td>2014-09-30</td>\n",
       "      <td>20140930235430</td>\n",
       "      <td>NaN</td>\n",
       "      <td>-unknown-</td>\n",
       "      <td>NaN</td>\n",
       "      <td>basic</td>\n",
       "      <td>0</td>\n",
       "      <td>en</td>\n",
       "      <td>sem-brand</td>\n",
       "      <td>google</td>\n",
       "      <td>omg</td>\n",
       "      <td>Web</td>\n",
       "      <td>Mac Desktop</td>\n",
       "      <td>Safari</td>\n",
       "    </tr>\n",
       "    <tr>\n",
       "      <th>62095</th>\n",
       "      <td>9uqfg8txu3</td>\n",
       "      <td>2014-09-30</td>\n",
       "      <td>20140930235901</td>\n",
       "      <td>NaN</td>\n",
       "      <td>FEMALE</td>\n",
       "      <td>49.0</td>\n",
       "      <td>basic</td>\n",
       "      <td>0</td>\n",
       "      <td>en</td>\n",
       "      <td>other</td>\n",
       "      <td>other</td>\n",
       "      <td>tracked-other</td>\n",
       "      <td>Web</td>\n",
       "      <td>Windows Desktop</td>\n",
       "      <td>Chrome</td>\n",
       "    </tr>\n",
       "  </tbody>\n",
       "</table>\n",
       "</div>"
      ],
      "text/plain": [
       "               id date_account_created  timestamp_first_active  \\\n",
       "62091  cv0na2lf5a           2014-09-30          20140930235232   \n",
       "62092  zp8xfonng8           2014-09-30          20140930235306   \n",
       "62093  fa6260ziny           2014-09-30          20140930235408   \n",
       "62094  87k0fy4ugm           2014-09-30          20140930235430   \n",
       "62095  9uqfg8txu3           2014-09-30          20140930235901   \n",
       "\n",
       "       date_first_booking     gender   age signup_method  signup_flow  \\\n",
       "62091                 NaN  -unknown-  31.0         basic            0   \n",
       "62092                 NaN  -unknown-   NaN         basic           23   \n",
       "62093                 NaN  -unknown-   NaN         basic            0   \n",
       "62094                 NaN  -unknown-   NaN         basic            0   \n",
       "62095                 NaN     FEMALE  49.0         basic            0   \n",
       "\n",
       "      language affiliate_channel affiliate_provider first_affiliate_tracked  \\\n",
       "62091       en            direct             direct               untracked   \n",
       "62092       ko            direct             direct               untracked   \n",
       "62093       de            direct             direct                  linked   \n",
       "62094       en         sem-brand             google                     omg   \n",
       "62095       en             other              other           tracked-other   \n",
       "\n",
       "      signup_app first_device_type first_browser  \n",
       "62091        Web   Windows Desktop            IE  \n",
       "62092    Android     Android Phone     -unknown-  \n",
       "62093        Web   Windows Desktop       Firefox  \n",
       "62094        Web       Mac Desktop        Safari  \n",
       "62095        Web   Windows Desktop        Chrome  "
      ]
     },
     "execution_count": 4,
     "metadata": {},
     "output_type": "execute_result"
    }
   ],
   "source": [
    "df_test.tail()"
   ]
  },
  {
   "cell_type": "code",
   "execution_count": 5,
   "metadata": {},
   "outputs": [
    {
     "name": "stdout",
     "output_type": "stream",
     "text": [
      "<class 'pandas.core.frame.DataFrame'>\n",
      "RangeIndex: 213451 entries, 0 to 213450\n",
      "Data columns (total 16 columns):\n",
      " #   Column                   Non-Null Count   Dtype  \n",
      "---  ------                   --------------   -----  \n",
      " 0   id                       213451 non-null  object \n",
      " 1   date_account_created     213451 non-null  object \n",
      " 2   timestamp_first_active   213451 non-null  int64  \n",
      " 3   date_first_booking       88908 non-null   object \n",
      " 4   gender                   213451 non-null  object \n",
      " 5   age                      125461 non-null  float64\n",
      " 6   signup_method            213451 non-null  object \n",
      " 7   signup_flow              213451 non-null  int64  \n",
      " 8   language                 213451 non-null  object \n",
      " 9   affiliate_channel        213451 non-null  object \n",
      " 10  affiliate_provider       213451 non-null  object \n",
      " 11  first_affiliate_tracked  207386 non-null  object \n",
      " 12  signup_app               213451 non-null  object \n",
      " 13  first_device_type        213451 non-null  object \n",
      " 14  first_browser            213451 non-null  object \n",
      " 15  country_destination      213451 non-null  object \n",
      "dtypes: float64(1), int64(2), object(13)\n",
      "memory usage: 26.1+ MB\n"
     ]
    }
   ],
   "source": [
    "# 数据简要分析 summary\n",
    "\n",
    "# 1、train 训练集数据 比 test 测试集数据 多一个特征 —— country_destination\n",
    "# 2、country_destination 即就是需要预测的目标变量\n",
    "# 3、对数据集的探索着重分析 train 训练集数据，test 测试集数据类似\n",
    "\n",
    "# 查看数据集信息概述\n",
    "df_train.info()"
   ]
  },
  {
   "cell_type": "code",
   "execution_count": 6,
   "metadata": {},
   "outputs": [],
   "source": [
    "# 从数据集的概述中可知：\n",
    "\n",
    "# 1、trian 数据集包含 213451 行数据，16 个特征\n",
    "# 2、每个特征的 数据类型 和 非空数量\n",
    "# 3、date_first_booking 空值较多，与总数据量差一个量级，在特征提取时可以考虑删除\n",
    "# 4、age 有空值， first_affiliate_tracked 有空值\n"
   ]
  },
  {
   "cell_type": "code",
   "execution_count": 7,
   "metadata": {},
   "outputs": [
    {
     "data": {
      "text/plain": [
       "0    2010-06-28\n",
       "1    2011-05-25\n",
       "2    2010-09-28\n",
       "3    2011-12-05\n",
       "4    2010-09-14\n",
       "Name: date_account_created, dtype: object"
      ]
     },
     "execution_count": 7,
     "metadata": {},
     "output_type": "execute_result"
    }
   ],
   "source": [
    "# 特征分析工程\n",
    "\n",
    "# 0 id  用户ID，这个特征没有分析的必要\n",
    "\n",
    "# 1 date_account_created 用户注册时间，这个特征值得分析\n",
    "\n",
    "# 查看 date_account_created 特征数据\n",
    "df_train.date_account_created.head()"
   ]
  },
  {
   "cell_type": "code",
   "execution_count": 8,
   "metadata": {},
   "outputs": [
    {
     "data": {
      "text/plain": [
       "2014-05-13    674\n",
       "2014-06-24    670\n",
       "2014-06-25    636\n",
       "2014-05-20    632\n",
       "2014-05-14    622\n",
       "Name: date_account_created, dtype: int64"
      ]
     },
     "execution_count": 8,
     "metadata": {},
     "output_type": "execute_result"
    }
   ],
   "source": [
    "# 对 date_account_created 特征数据进行统计计数\n",
    "df_train.date_account_created.value_counts().head()"
   ]
  },
  {
   "cell_type": "code",
   "execution_count": 9,
   "metadata": {},
   "outputs": [
    {
     "data": {
      "text/plain": [
       "count         213451\n",
       "unique          1634\n",
       "top       2014-05-13\n",
       "freq             674\n",
       "Name: date_account_created, dtype: object"
      ]
     },
     "execution_count": 9,
     "metadata": {},
     "output_type": "execute_result"
    }
   ],
   "source": [
    "# 查看 date_account_created 特征的描述信息\n",
    "df_train.date_account_created.describe()"
   ]
  },
  {
   "cell_type": "code",
   "execution_count": 10,
   "metadata": {},
   "outputs": [],
   "source": [
    "# 从以上对 date_account_created 特征的描述信息可知\n",
    "\n",
    "# 1、该特征 date_account_created 的总计数为 213451\n",
    "# 2、该特征 date_account_created 不同天数为 1634\n",
    "# 3、该特征 date_account_created 频率最高是 674 次注册，在 2014-05-13 这一天\n"
   ]
  },
  {
   "cell_type": "code",
   "execution_count": 11,
   "metadata": {},
   "outputs": [
    {
     "data": {
      "text/plain": [
       "2014-05-13    674\n",
       "2014-06-24    670\n",
       "2014-06-25    636\n",
       "2014-05-20    632\n",
       "2014-05-14    622\n",
       "Name: date_account_created, dtype: int64"
      ]
     },
     "execution_count": 11,
     "metadata": {},
     "output_type": "execute_result"
    }
   ],
   "source": [
    "# 根据特征 date_account_created 可以分析用户随着时间的增长情况\n",
    "\n",
    "# 首先计算数据集中到目前为止每一天有多少注册用户\n",
    "dac_train = df_train.date_account_created.value_counts()\n",
    "\n",
    "dac_test = df_test.date_account_created.value_counts()\n",
    "\n",
    "dac_train[:5]"
   ]
  },
  {
   "cell_type": "code",
   "execution_count": 12,
   "metadata": {},
   "outputs": [
    {
     "data": {
      "text/plain": [
       "DatetimeIndex(['2014-05-13', '2014-06-24', '2014-06-25', '2014-05-20',\n",
       "               '2014-05-14', '2014-05-21', '2014-06-03', '2014-06-16',\n",
       "               '2014-06-11', '2014-05-28',\n",
       "               ...\n",
       "               '2010-04-01', '2010-01-31', '2010-06-18', '2010-04-24',\n",
       "               '2010-01-02', '2010-02-14', '2010-03-09', '2010-01-23',\n",
       "               '2010-01-28', '2010-04-11'],\n",
       "              dtype='datetime64[ns]', length=1634, freq=None)"
      ]
     },
     "execution_count": 12,
     "metadata": {},
     "output_type": "execute_result"
    }
   ],
   "source": [
    "# 将数据类型转换为 datatime 类型, 便于处理\n",
    "dac_train_date = pd.to_datetime(df_train.date_account_created.value_counts().index)\n",
    "\n",
    "dac_test_date = pd.to_datetime(df_test.date_account_created.value_counts().index)\n",
    "\n",
    "dac_train_date"
   ]
  },
  {
   "cell_type": "code",
   "execution_count": 13,
   "metadata": {},
   "outputs": [
    {
     "data": {
      "text/plain": [
       "TimedeltaIndex(['1593 days', '1635 days', '1636 days', '1600 days',\n",
       "                '1594 days', '1601 days', '1614 days', '1627 days',\n",
       "                '1622 days', '1608 days',\n",
       "                ...\n",
       "                  '90 days',   '30 days',  '168 days',  '113 days',\n",
       "                   '1 days',   '44 days',   '67 days',   '22 days',\n",
       "                  '27 days',  '100 days'],\n",
       "               dtype='timedelta64[ns]', length=1634, freq=None)"
      ]
     },
     "execution_count": 13,
     "metadata": {},
     "output_type": "execute_result"
    }
   ],
   "source": [
    "# 计算用户注册时间 和 系统首次开放注册时间 之间相差的天数\n",
    "dac_train_day = dac_train_date - dac_train_date.min()\n",
    "\n",
    "dac_test_day = dac_test_date - dac_train_date.min()\n",
    "\n",
    "dac_train_day"
   ]
  },
  {
   "cell_type": "code",
   "execution_count": 14,
   "metadata": {},
   "outputs": [
    {
     "data": {
      "text/plain": [
       "<matplotlib.legend.Legend at 0xd6961c8>"
      ]
     },
     "execution_count": 14,
     "metadata": {},
     "output_type": "execute_result"
    },
    {
     "data": {
      "image/png": "[encoded data removed]",
      "text/plain": [
       "<Figure size 432x288 with 1 Axes>"
      ]
     },
     "metadata": {
      "needs_background": "light"
     },
     "output_type": "display_data"
    }
   ],
   "source": [
    "# motplotlib 作图，进行可视化分析特征 date_account_created\n",
    "\n",
    "# 创建绘制环境\n",
    "fig = plt.figure()\n",
    "\n",
    "# 创建一个图形环境\n",
    "ax = fig.add_subplot(1, 1, 1)\n",
    "\n",
    "# 指定位置进行绘制图形\n",
    "ax.scatter(dac_train_day.days, dac_train.values, color = 'r', label = 'train dataset')\n",
    "ax.scatter(dac_test_day.days, dac_test.values, color = 'b', label = 'test dataset')\n",
    "\n",
    "# 添加图形的一些基本信息\n",
    "ax.set_title(\"Accounts created vs day\")\n",
    "ax.set_xlabel(\"Days\")\n",
    "ax.set_ylabel(\"Accounts created\")\n",
    "ax.legend(loc = 'upper left')\n"
   ]
  },
  {
   "cell_type": "code",
   "execution_count": 15,
   "metadata": {},
   "outputs": [],
   "source": [
    "# 对上图的可视化可以知道：\n",
    "\n",
    "# 1、x轴：代表着距离系统首次开放注册时间相差的天数\n",
    "# 2、y轴：每天注册的用户数量\n",
    "# 3、从图中可以知道，随着时间的增长, 用户注册的数量在急剧上升\n"
   ]
  },
  {
   "cell_type": "code",
   "execution_count": 16,
   "metadata": {},
   "outputs": [
    {
     "data": {
      "text/plain": [
       "0    20090319043255\n",
       "1    20090523174809\n",
       "2    20090609231247\n",
       "3    20091031060129\n",
       "4    20091208061105\n",
       "Name: timestamp_first_active, dtype: int64"
      ]
     },
     "execution_count": 16,
     "metadata": {},
     "output_type": "execute_result"
    }
   ],
   "source": [
    "# 2 timestamp_first_active 用户首次活跃的时间，这个特征需要探索，转化一下\n",
    "\n",
    "# 查看特征 timestamp_first_active 数据情况\n",
    "df_train.timestamp_first_active.head()"
   ]
  },
  {
   "cell_type": "code",
   "execution_count": 17,
   "metadata": {},
   "outputs": [
    {
     "data": {
      "text/plain": [
       "array([1], dtype=int64)"
      ]
     },
     "execution_count": 17,
     "metadata": {},
     "output_type": "execute_result"
    }
   ],
   "source": [
    "# 探索 时间戳 是否用重复的情况\n",
    "df_train.timestamp_first_active.value_counts().unique()"
   ]
  },
  {
   "cell_type": "code",
   "execution_count": 18,
   "metadata": {},
   "outputs": [
    {
     "data": {
      "text/plain": [
       "0        2009-03-19 04:32:55\n",
       "1        2009-05-23 17:48:09\n",
       "2        2009-06-09 23:12:47\n",
       "3        2009-10-31 06:01:29\n",
       "4        2009-12-08 06:11:05\n",
       "                 ...        \n",
       "213446   2014-06-30 23:56:36\n",
       "213447   2014-06-30 23:57:19\n",
       "213448   2014-06-30 23:57:54\n",
       "213449   2014-06-30 23:58:22\n",
       "213450   2014-06-30 23:58:24\n",
       "Name: timestamp_first_active, Length: 213451, dtype: datetime64[ns]"
      ]
     },
     "execution_count": 18,
     "metadata": {},
     "output_type": "execute_result"
    }
   ],
   "source": [
    "# 以上结果显示表明，时间戳没有重复的值，即就是 timestamp_first_active 特征没有重复\n",
    "\n",
    "# 将 Unix 似的时间戳格式转换为 datetime 日期格式 年-月-日-时-分-秒\n",
    "tfa_train_dt = df_train.timestamp_first_active.astype(str).apply(\n",
    "               lambda x: datetime.datetime(int(x[:4]), int(x[4:6]), int(x[6:8]), \n",
    "                                           int(x[8:10]), int(x[10:12]), int(x[12:])))\n",
    "\n",
    "tfa_train_dt"
   ]
  },
  {
   "cell_type": "code",
   "execution_count": 19,
   "metadata": {},
   "outputs": [
    {
     "data": {
      "text/plain": [
       "count                  213451\n",
       "unique                 213451\n",
       "top       2013-07-01 05:26:34\n",
       "freq                        1\n",
       "first     2009-03-19 04:32:55\n",
       "last      2014-06-30 23:58:24\n",
       "Name: timestamp_first_active, dtype: object"
      ]
     },
     "execution_count": 19,
     "metadata": {},
     "output_type": "execute_result"
    }
   ],
   "source": [
    "# 查看特征数据 timestamp_first_active 的描述信息\n",
    "tfa_train_dt.describe()"
   ]
  },
  {
   "cell_type": "code",
   "execution_count": 20,
   "metadata": {},
   "outputs": [],
   "source": [
    "# 根据描述信息可知\n",
    "\n",
    "# 1、timestamp_first_active 特征没有重复值\n",
    "# 2、timestamp_first_active 用户首次活跃时间 数据集开始于 2009-03-19\n",
    "# 3、timestamp_first_active 用户首次活跃时间 数据集截止于 2014-06-30\n"
   ]
  },
  {
   "cell_type": "code",
   "execution_count": 21,
   "metadata": {},
   "outputs": [
    {
     "data": {
      "text/plain": [
       "count          88908\n",
       "unique          1976\n",
       "top       2014-05-22\n",
       "freq             248\n",
       "Name: date_first_booking, dtype: object"
      ]
     },
     "execution_count": 21,
     "metadata": {},
     "output_type": "execute_result"
    }
   ],
   "source": [
    "# 3 date_first_booking 用户首次预定的时间\n",
    "\n",
    "# 查看 date_first_booking 数据情况\n",
    "df_train.date_first_booking.describe()"
   ]
  },
  {
   "cell_type": "code",
   "execution_count": 22,
   "metadata": {},
   "outputs": [
    {
     "data": {
      "text/plain": [
       "count    0.0\n",
       "mean     NaN\n",
       "std      NaN\n",
       "min      NaN\n",
       "25%      NaN\n",
       "50%      NaN\n",
       "75%      NaN\n",
       "max      NaN\n",
       "Name: date_first_booking, dtype: float64"
      ]
     },
     "execution_count": 22,
     "metadata": {},
     "output_type": "execute_result"
    }
   ],
   "source": [
    "df_test.date_first_booking.describe()"
   ]
  },
  {
   "cell_type": "code",
   "execution_count": 23,
   "metadata": {},
   "outputs": [],
   "source": [
    "# 根据以上描述信息可知\n",
    "\n",
    "# 1、train 数据集中 date_first_booking 特征大量缺失\n",
    "# 2、test 数据集中 date_first_booking 特征完全缺失\n",
    "# 3、date_first_booking 特征对于任务，几乎没有影响，考虑将这个特征直接删掉\n"
   ]
  },
  {
   "cell_type": "code",
   "execution_count": 24,
   "metadata": {},
   "outputs": [
    {
     "data": {
      "text/plain": [
       "0     NaN\n",
       "1    38.0\n",
       "2    56.0\n",
       "3    42.0\n",
       "4    41.0\n",
       "Name: age, dtype: float64"
      ]
     },
     "execution_count": 24,
     "metadata": {},
     "output_type": "execute_result"
    }
   ],
   "source": [
    "# 4 age 用户的年龄\n",
    "\n",
    "# 查看 age 特征的数据情况\n",
    "df_train.age.head()"
   ]
  },
  {
   "cell_type": "code",
   "execution_count": 25,
   "metadata": {},
   "outputs": [
    {
     "data": {
      "text/plain": [
       "30.0      6124\n",
       "31.0      6016\n",
       "29.0      5963\n",
       "28.0      5939\n",
       "32.0      5855\n",
       "          ... \n",
       "1933.0       1\n",
       "1942.0       1\n",
       "112.0        1\n",
       "1938.0       1\n",
       "1952.0       1\n",
       "Name: age, Length: 127, dtype: int64"
      ]
     },
     "execution_count": 25,
     "metadata": {},
     "output_type": "execute_result"
    }
   ],
   "source": [
    "# 对 age 特征进行统计计数\n",
    "df_train.age.value_counts()"
   ]
  },
  {
   "cell_type": "code",
   "execution_count": 26,
   "metadata": {},
   "outputs": [],
   "source": [
    "# 从以上显示结果可知\n",
    "# 1、age 特征有缺失值\n",
    "# 2、age 特征 的值由异常值\n",
    "# 3、age 特征 用户年龄主要集中在 30 岁左右【28-32】\n"
   ]
  },
  {
   "cell_type": "code",
   "execution_count": 27,
   "metadata": {},
   "outputs": [
    {
     "data": {
      "text/plain": [
       "Text(0, 0.5, 'counts')"
      ]
     },
     "execution_count": 27,
     "metadata": {},
     "output_type": "execute_result"
    },
    {
     "data": {
      "image/png": "[encoded data removed]",
      "text/plain": [
       "<Figure size 720x360 with 2 Axes>"
      ]
     },
     "metadata": {
      "needs_background": "light"
     },
     "output_type": "display_data"
    }
   ],
   "source": [
    "# 对 age 特征 进行可视化分析\n",
    "\n",
    "#首先将年龄进行分成 4 组: 缺失值，可能异常值（太大或者太小），合理值\n",
    "# missing values, too small age, reasonable age, too large age\n",
    "age_train =[df_train[df_train.age.isnull()].age.shape[0],\n",
    "            df_train.query('age < 15').age.shape[0],\n",
    "            df_train.query(\"age >= 15 & age <= 90\").age.shape[0],\n",
    "            df_train.query('age > 90').age.shape[0]]\n",
    "\n",
    "age_test = [df_test[df_test.age.isnull()].age.shape[0],\n",
    "            df_test.query('age < 15').age.shape[0],\n",
    "            df_test.query(\"age >= 15 & age <= 90\").age.shape[0],\n",
    "            df_test.query('age > 90').age.shape[0]]\n",
    "\n",
    "# age 年龄分组名\n",
    "columns = ['Null', 'age < 15', 'age', 'age > 90']\n",
    "\n",
    "# 可视化 age 特征，以便于分析了解数据情况\n",
    "# 创建一个图形环境\n",
    "fig, (ax1, ax2) = plt.subplots(1, 2, sharex=True, sharey = True,figsize=(10,5))\n",
    "\n",
    "# 使用 seaborn 绘制柱状图\n",
    "sns.barplot(columns, age_train, ax = ax1)\n",
    "sns.barplot(columns, age_test, ax = ax2)\n",
    "\n",
    "# 添加一些图形基本信息\n",
    "ax1.set_title('training dataset')\n",
    "ax2.set_title('test dataset')\n",
    "ax1.set_ylabel('counts')\n"
   ]
  },
  {
   "cell_type": "code",
   "execution_count": 28,
   "metadata": {},
   "outputs": [],
   "source": [
    "# 对数据集中的其他特征字段，全部统一进行统计分析可视化\n",
    "\n",
    "# 定义一个通用的函数，对数据集中数据进行可视化\n",
    "def feature_barplot(feature, df_train=df_train, df_test=df_test, figsize=(10,5), rot = 90, saveimg = False): \n",
    "    # 对 特征字段 进行统计计数\n",
    "    feat_train = df_train[feature].value_counts()\n",
    "    feat_test = df_test[feature].value_counts()\n",
    "    # 可视化 特征字段\n",
    "    fig_feature, (ax1,ax2) = plt.subplots(1, 2, sharex=True, sharey = True, figsize = figsize)\n",
    "    sns.barplot(feat_train.index.values, feat_train.values, ax = ax1)\n",
    "    sns.barplot(feat_test.index.values, feat_test.values, ax = ax2)\n",
    "    # 调整 刻度\n",
    "    ax1.set_xticklabels(ax1.xaxis.get_majorticklabels(), rotation = rot)\n",
    "    ax2.set_xticklabels(ax1.xaxis.get_majorticklabels(), rotation = rot)\n",
    "    # 添加基本信息\n",
    "    ax1.set_title(feature + ' of training dataset')\n",
    "    ax2.set_title(feature + ' of test dataset')\n",
    "    ax1.set_ylabel('Counts')\n",
    "    # 调整图形布局\n",
    "    plt.tight_layout()\n",
    "    # 是否保存图片，默认不保存 False\n",
    "    if saveimg == True:\n",
    "        figname = feature + \".png\"\n",
    "        image_path = './../image/'\n",
    "        fig_feature.savefig(image_path + figname, dpi = 75)\n"
   ]
  },
  {
   "cell_type": "code",
   "execution_count": 29,
   "metadata": {},
   "outputs": [
    {
     "data": {
      "image/png": "[encoded data removed]",
      "text/plain": [
       "<Figure size 720x360 with 2 Axes>"
      ]
     },
     "metadata": {
      "needs_background": "light"
     },
     "output_type": "display_data"
    }
   ],
   "source": [
    "# 5 gender 特征 用户性别\n",
    "feature_barplot(\"gender\", saveimg=True)"
   ]
  },
  {
   "cell_type": "code",
   "execution_count": 30,
   "metadata": {},
   "outputs": [],
   "source": [
    "# 通过可视化可知\n",
    "# 1、用户性别，数据集中大量是未知的，少量是其他\n",
    "# 2、male 男性 比 female 女性 要少一点，可以看做男女比例差不多\n",
    "# 3、数据集中未知性别的数量和已知性别数量   从数量上基本是等价的\n",
    "# 4、具体的比例信息，可以通过 计算小分组中的相对比例， 因此标准化分组百分比之和为 1，这样可能更加明确"
   ]
  },
  {
   "cell_type": "code",
   "execution_count": 31,
   "metadata": {},
   "outputs": [
    {
     "data": {
      "image/png": "[encoded data removed]",
      "text/plain": [
       "<Figure size 720x360 with 2 Axes>"
      ]
     },
     "metadata": {
      "needs_background": "light"
     },
     "output_type": "display_data"
    }
   ],
   "source": [
    "# 6 signup_method 特征 用户注册方式\n",
    "feature_barplot(\"signup_method\", saveimg=True)"
   ]
  },
  {
   "cell_type": "code",
   "execution_count": 32,
   "metadata": {},
   "outputs": [],
   "source": [
    "# 从可视化结果可知\n",
    "# 1、用户注册方式，大部分是 basic 方式\n",
    "# 2、少部分是 Facebook 方式\n",
    "# 3、train 训练集中没有采用 google 方式，而 test 测试集中有采用 google 方式\n",
    "# 4、具体的比例信息，可以通过 计算小分组中的相对比例， 因此标准化分组百分比之和为 1，这样可能更加明确\n"
   ]
  },
  {
   "cell_type": "code",
   "execution_count": 33,
   "metadata": {},
   "outputs": [
    {
     "data": {
      "image/png": "[encoded data removed]",
      "text/plain": [
       "<Figure size 720x360 with 2 Axes>"
      ]
     },
     "metadata": {
      "needs_background": "light"
     },
     "output_type": "display_data"
    }
   ],
   "source": [
    "#  7 signup_flow 特征 用户注册页面\n",
    "feature_barplot(\"signup_flow\", saveimg=True)\n"
   ]
  },
  {
   "cell_type": "code",
   "execution_count": 34,
   "metadata": {},
   "outputs": [
    {
     "data": {
      "image/png": "[encoded data removed]",
      "text/plain": [
       "<Figure size 720x360 with 2 Axes>"
      ]
     },
     "metadata": {
      "needs_background": "light"
     },
     "output_type": "display_data"
    }
   ],
   "source": [
    "# 8 language 特征 语言\n",
    "feature_barplot(\"language\", saveimg=True)\n"
   ]
  },
  {
   "cell_type": "code",
   "execution_count": 35,
   "metadata": {},
   "outputs": [
    {
     "data": {
      "image/png": "[encoded data removed]",
      "text/plain": [
       "<Figure size 720x360 with 2 Axes>"
      ]
     },
     "metadata": {
      "needs_background": "light"
     },
     "output_type": "display_data"
    }
   ],
   "source": [
    "# 9 affiliate_channel 特征 用户付费渠道\n",
    "feature_barplot(\"affiliate_channel\", saveimg=True)\n"
   ]
  },
  {
   "cell_type": "code",
   "execution_count": 36,
   "metadata": {},
   "outputs": [
    {
     "data": {
      "image/png": "[encoded data removed]",
      "text/plain": [
       "<Figure size 720x360 with 2 Axes>"
      ]
     },
     "metadata": {
      "needs_background": "light"
     },
     "output_type": "display_data"
    }
   ],
   "source": [
    "# 10  first_affiliate_tracked 特征 用户注册之前接触的第一付费渠道\n",
    "feature_barplot(\"first_affiliate_tracked\", saveimg=True)\n"
   ]
  },
  {
   "cell_type": "code",
   "execution_count": 37,
   "metadata": {},
   "outputs": [
    {
     "data": {
      "image/png": "[encoded data removed]",
      "text/plain": [
       "<Figure size 720x360 with 2 Axes>"
      ]
     },
     "metadata": {
      "needs_background": "light"
     },
     "output_type": "display_data"
    }
   ],
   "source": [
    "# 11 signup_app 特征 用户注册APP\n",
    "feature_barplot(\"signup_app\", saveimg=True)\n"
   ]
  },
  {
   "cell_type": "code",
   "execution_count": 38,
   "metadata": {},
   "outputs": [
    {
     "data": {
      "image/png": "[encoded data removed]",
      "text/plain": [
       "<Figure size 720x360 with 2 Axes>"
      ]
     },
     "metadata": {
      "needs_background": "light"
     },
     "output_type": "display_data"
    }
   ],
   "source": [
    "# 12 first_device_type 特征字段 用户移动设备类型\n",
    "feature_barplot(\"first_device_type\", saveimg=True)\n"
   ]
  },
  {
   "cell_type": "code",
   "execution_count": 39,
   "metadata": {},
   "outputs": [
    {
     "data": {
      "image/png": "[encoded data removed]",
      "text/plain": [
       "<Figure size 720x360 with 2 Axes>"
      ]
     },
     "metadata": {
      "needs_background": "light"
     },
     "output_type": "display_data"
    }
   ],
   "source": [
    "# 13 first_browser 特征字段 用户使用的浏览器类型\n",
    "feature_barplot(\"first_browser\", saveimg=True)\n"
   ]
  },
  {
   "cell_type": "code",
   "execution_count": 40,
   "metadata": {},
   "outputs": [
    {
     "data": {
      "text/plain": [
       "(10567737, 6)"
      ]
     },
     "execution_count": 40,
     "metadata": {},
     "output_type": "execute_result"
    }
   ],
   "source": [
    "# Loading the Data for session\n",
    "\n",
    "# 加载 sessions 用户交互浏览记录数据集\n",
    "df_sessions = pd.read_csv(dataset_path + 'sessions.csv.zip')\n",
    "\n",
    "df_sessions.shape"
   ]
  },
  {
   "cell_type": "code",
   "execution_count": 41,
   "metadata": {},
   "outputs": [
    {
     "data": {
      "text/html": [
       "<div>\n",
       "<style scoped>\n",
       "    .dataframe tbody tr th:only-of-type {\n",
       "        vertical-align: middle;\n",
       "    }\n",
       "\n",
       "    .dataframe tbody tr th {\n",
       "        vertical-align: top;\n",
       "    }\n",
       "\n",
       "    .dataframe thead th {\n",
       "        text-align: right;\n",
       "    }\n",
       "</style>\n",
       "<table border=\"1\" class=\"dataframe\">\n",
       "  <thead>\n",
       "    <tr style=\"text-align: right;\">\n",
       "      <th></th>\n",
       "      <th>user_id</th>\n",
       "      <th>action</th>\n",
       "      <th>action_type</th>\n",
       "      <th>action_detail</th>\n",
       "      <th>device_type</th>\n",
       "      <th>secs_elapsed</th>\n",
       "    </tr>\n",
       "  </thead>\n",
       "  <tbody>\n",
       "    <tr>\n",
       "      <th>0</th>\n",
       "      <td>d1mm9tcy42</td>\n",
       "      <td>lookup</td>\n",
       "      <td>NaN</td>\n",
       "      <td>NaN</td>\n",
       "      <td>Windows Desktop</td>\n",
       "      <td>319.0</td>\n",
       "    </tr>\n",
       "    <tr>\n",
       "      <th>1</th>\n",
       "      <td>d1mm9tcy42</td>\n",
       "      <td>search_results</td>\n",
       "      <td>click</td>\n",
       "      <td>view_search_results</td>\n",
       "      <td>Windows Desktop</td>\n",
       "      <td>67753.0</td>\n",
       "    </tr>\n",
       "    <tr>\n",
       "      <th>2</th>\n",
       "      <td>d1mm9tcy42</td>\n",
       "      <td>lookup</td>\n",
       "      <td>NaN</td>\n",
       "      <td>NaN</td>\n",
       "      <td>Windows Desktop</td>\n",
       "      <td>301.0</td>\n",
       "    </tr>\n",
       "    <tr>\n",
       "      <th>3</th>\n",
       "      <td>d1mm9tcy42</td>\n",
       "      <td>search_results</td>\n",
       "      <td>click</td>\n",
       "      <td>view_search_results</td>\n",
       "      <td>Windows Desktop</td>\n",
       "      <td>22141.0</td>\n",
       "    </tr>\n",
       "    <tr>\n",
       "      <th>4</th>\n",
       "      <td>d1mm9tcy42</td>\n",
       "      <td>lookup</td>\n",
       "      <td>NaN</td>\n",
       "      <td>NaN</td>\n",
       "      <td>Windows Desktop</td>\n",
       "      <td>435.0</td>\n",
       "    </tr>\n",
       "  </tbody>\n",
       "</table>\n",
       "</div>"
      ],
      "text/plain": [
       "      user_id          action action_type        action_detail  \\\n",
       "0  d1mm9tcy42          lookup         NaN                  NaN   \n",
       "1  d1mm9tcy42  search_results       click  view_search_results   \n",
       "2  d1mm9tcy42          lookup         NaN                  NaN   \n",
       "3  d1mm9tcy42  search_results       click  view_search_results   \n",
       "4  d1mm9tcy42          lookup         NaN                  NaN   \n",
       "\n",
       "       device_type  secs_elapsed  \n",
       "0  Windows Desktop         319.0  \n",
       "1  Windows Desktop       67753.0  \n",
       "2  Windows Desktop         301.0  \n",
       "3  Windows Desktop       22141.0  \n",
       "4  Windows Desktop         435.0  "
      ]
     },
     "execution_count": 41,
     "metadata": {},
     "output_type": "execute_result"
    }
   ],
   "source": [
    "df_sessions[:5]"
   ]
  },
  {
   "cell_type": "code",
   "execution_count": 42,
   "metadata": {},
   "outputs": [
    {
     "data": {
      "text/html": [
       "<div>\n",
       "<style scoped>\n",
       "    .dataframe tbody tr th:only-of-type {\n",
       "        vertical-align: middle;\n",
       "    }\n",
       "\n",
       "    .dataframe tbody tr th {\n",
       "        vertical-align: top;\n",
       "    }\n",
       "\n",
       "    .dataframe thead th {\n",
       "        text-align: right;\n",
       "    }\n",
       "</style>\n",
       "<table border=\"1\" class=\"dataframe\">\n",
       "  <thead>\n",
       "    <tr style=\"text-align: right;\">\n",
       "      <th></th>\n",
       "      <th>user_id</th>\n",
       "      <th>action</th>\n",
       "      <th>action_type</th>\n",
       "      <th>action_detail</th>\n",
       "      <th>device_type</th>\n",
       "      <th>secs_elapsed</th>\n",
       "      <th>id</th>\n",
       "    </tr>\n",
       "  </thead>\n",
       "  <tbody>\n",
       "    <tr>\n",
       "      <th>0</th>\n",
       "      <td>d1mm9tcy42</td>\n",
       "      <td>lookup</td>\n",
       "      <td>NaN</td>\n",
       "      <td>NaN</td>\n",
       "      <td>Windows Desktop</td>\n",
       "      <td>319.0</td>\n",
       "      <td>d1mm9tcy42</td>\n",
       "    </tr>\n",
       "    <tr>\n",
       "      <th>1</th>\n",
       "      <td>d1mm9tcy42</td>\n",
       "      <td>search_results</td>\n",
       "      <td>click</td>\n",
       "      <td>view_search_results</td>\n",
       "      <td>Windows Desktop</td>\n",
       "      <td>67753.0</td>\n",
       "      <td>d1mm9tcy42</td>\n",
       "    </tr>\n",
       "    <tr>\n",
       "      <th>2</th>\n",
       "      <td>d1mm9tcy42</td>\n",
       "      <td>lookup</td>\n",
       "      <td>NaN</td>\n",
       "      <td>NaN</td>\n",
       "      <td>Windows Desktop</td>\n",
       "      <td>301.0</td>\n",
       "      <td>d1mm9tcy42</td>\n",
       "    </tr>\n",
       "    <tr>\n",
       "      <th>3</th>\n",
       "      <td>d1mm9tcy42</td>\n",
       "      <td>search_results</td>\n",
       "      <td>click</td>\n",
       "      <td>view_search_results</td>\n",
       "      <td>Windows Desktop</td>\n",
       "      <td>22141.0</td>\n",
       "      <td>d1mm9tcy42</td>\n",
       "    </tr>\n",
       "    <tr>\n",
       "      <th>4</th>\n",
       "      <td>d1mm9tcy42</td>\n",
       "      <td>lookup</td>\n",
       "      <td>NaN</td>\n",
       "      <td>NaN</td>\n",
       "      <td>Windows Desktop</td>\n",
       "      <td>435.0</td>\n",
       "      <td>d1mm9tcy42</td>\n",
       "    </tr>\n",
       "  </tbody>\n",
       "</table>\n",
       "</div>"
      ],
      "text/plain": [
       "      user_id          action action_type        action_detail  \\\n",
       "0  d1mm9tcy42          lookup         NaN                  NaN   \n",
       "1  d1mm9tcy42  search_results       click  view_search_results   \n",
       "2  d1mm9tcy42          lookup         NaN                  NaN   \n",
       "3  d1mm9tcy42  search_results       click  view_search_results   \n",
       "4  d1mm9tcy42          lookup         NaN                  NaN   \n",
       "\n",
       "       device_type  secs_elapsed          id  \n",
       "0  Windows Desktop         319.0  d1mm9tcy42  \n",
       "1  Windows Desktop       67753.0  d1mm9tcy42  \n",
       "2  Windows Desktop         301.0  d1mm9tcy42  \n",
       "3  Windows Desktop       22141.0  d1mm9tcy42  \n",
       "4  Windows Desktop         435.0  d1mm9tcy42  "
      ]
     },
     "execution_count": 42,
     "metadata": {},
     "output_type": "execute_result"
    }
   ],
   "source": [
    "# 为了将 sessions 数据集 和 train 数据集合并\n",
    "# 需要经 user_id 特征字段 修改为 id\n",
    "\n",
    "# 首先添加一列，即新增一个字段特征\n",
    "df_sessions['id'] = df_sessions['user_id']\n",
    "\n",
    "df_sessions[:5]"
   ]
  },
  {
   "cell_type": "code",
   "execution_count": 43,
   "metadata": {},
   "outputs": [
    {
     "data": {
      "text/html": [
       "<div>\n",
       "<style scoped>\n",
       "    .dataframe tbody tr th:only-of-type {\n",
       "        vertical-align: middle;\n",
       "    }\n",
       "\n",
       "    .dataframe tbody tr th {\n",
       "        vertical-align: top;\n",
       "    }\n",
       "\n",
       "    .dataframe thead th {\n",
       "        text-align: right;\n",
       "    }\n",
       "</style>\n",
       "<table border=\"1\" class=\"dataframe\">\n",
       "  <thead>\n",
       "    <tr style=\"text-align: right;\">\n",
       "      <th></th>\n",
       "      <th>action</th>\n",
       "      <th>action_type</th>\n",
       "      <th>action_detail</th>\n",
       "      <th>device_type</th>\n",
       "      <th>secs_elapsed</th>\n",
       "      <th>id</th>\n",
       "    </tr>\n",
       "  </thead>\n",
       "  <tbody>\n",
       "    <tr>\n",
       "      <th>0</th>\n",
       "      <td>lookup</td>\n",
       "      <td>NaN</td>\n",
       "      <td>NaN</td>\n",
       "      <td>Windows Desktop</td>\n",
       "      <td>319.0</td>\n",
       "      <td>d1mm9tcy42</td>\n",
       "    </tr>\n",
       "    <tr>\n",
       "      <th>1</th>\n",
       "      <td>search_results</td>\n",
       "      <td>click</td>\n",
       "      <td>view_search_results</td>\n",
       "      <td>Windows Desktop</td>\n",
       "      <td>67753.0</td>\n",
       "      <td>d1mm9tcy42</td>\n",
       "    </tr>\n",
       "    <tr>\n",
       "      <th>2</th>\n",
       "      <td>lookup</td>\n",
       "      <td>NaN</td>\n",
       "      <td>NaN</td>\n",
       "      <td>Windows Desktop</td>\n",
       "      <td>301.0</td>\n",
       "      <td>d1mm9tcy42</td>\n",
       "    </tr>\n",
       "    <tr>\n",
       "      <th>3</th>\n",
       "      <td>search_results</td>\n",
       "      <td>click</td>\n",
       "      <td>view_search_results</td>\n",
       "      <td>Windows Desktop</td>\n",
       "      <td>22141.0</td>\n",
       "      <td>d1mm9tcy42</td>\n",
       "    </tr>\n",
       "    <tr>\n",
       "      <th>4</th>\n",
       "      <td>lookup</td>\n",
       "      <td>NaN</td>\n",
       "      <td>NaN</td>\n",
       "      <td>Windows Desktop</td>\n",
       "      <td>435.0</td>\n",
       "      <td>d1mm9tcy42</td>\n",
       "    </tr>\n",
       "  </tbody>\n",
       "</table>\n",
       "</div>"
      ],
      "text/plain": [
       "           action action_type        action_detail      device_type  \\\n",
       "0          lookup         NaN                  NaN  Windows Desktop   \n",
       "1  search_results       click  view_search_results  Windows Desktop   \n",
       "2          lookup         NaN                  NaN  Windows Desktop   \n",
       "3  search_results       click  view_search_results  Windows Desktop   \n",
       "4          lookup         NaN                  NaN  Windows Desktop   \n",
       "\n",
       "   secs_elapsed          id  \n",
       "0         319.0  d1mm9tcy42  \n",
       "1       67753.0  d1mm9tcy42  \n",
       "2         301.0  d1mm9tcy42  \n",
       "3       22141.0  d1mm9tcy42  \n",
       "4         435.0  d1mm9tcy42  "
      ]
     },
     "execution_count": 43,
     "metadata": {},
     "output_type": "execute_result"
    }
   ],
   "source": [
    "# 删除 user_id 这一列\n",
    "df_sessions = df_sessions.drop(['user_id'], axis=1) \n",
    "\n",
    "df_sessions[:5]"
   ]
  },
  {
   "cell_type": "code",
   "execution_count": 44,
   "metadata": {},
   "outputs": [
    {
     "data": {
      "text/plain": [
       "action             79626\n",
       "action_type      1126204\n",
       "action_detail    1126204\n",
       "device_type            0\n",
       "secs_elapsed      136031\n",
       "id                 34496\n",
       "dtype: int64"
      ]
     },
     "execution_count": 44,
     "metadata": {},
     "output_type": "execute_result"
    }
   ],
   "source": [
    "# 查看数据集中的缺失值\n",
    "df_sessions.isnull().sum()\n"
   ]
  },
  {
   "cell_type": "code",
   "execution_count": 45,
   "metadata": {},
   "outputs": [],
   "source": [
    "# 由以上的分析结果可知\n",
    "# 1、 action 、 action_type 、action_detail 、secs_elapsed 这几个字段特征大量缺失\n",
    "# 2、 device_type 这个字段特征没有缺失值\n",
    "# 3、id 这个字段特征有一些缺失？？？\n"
   ]
  },
  {
   "cell_type": "code",
   "execution_count": 46,
   "metadata": {},
   "outputs": [
    {
     "data": {
      "text/plain": [
       "action                0\n",
       "action_type           0\n",
       "action_detail         0\n",
       "device_type           0\n",
       "secs_elapsed     136031\n",
       "id                34496\n",
       "dtype: int64"
      ]
     },
     "execution_count": 46,
     "metadata": {},
     "output_type": "execute_result"
    }
   ],
   "source": [
    "# 填充缺失值\n",
    "# 对 action 、 action_type 、action_detail 进行填充 NAN\n",
    "# # secs_elapsed 用户停留时长，不能简单的填充 NAN，后续做填充处理\n",
    "df_sessions.action = df_sessions.action.fillna('NAN')\n",
    "\n",
    "df_sessions.action_type = df_sessions.action_type.fillna('NAN')\n",
    "\n",
    "df_sessions.action_detail = df_sessions.action_detail.fillna('NAN')\n",
    "\n",
    "df_sessions.isnull().sum()\n"
   ]
  },
  {
   "cell_type": "code",
   "execution_count": 47,
   "metadata": {},
   "outputs": [
    {
     "data": {
      "text/plain": [
       "0            lookup\n",
       "1    search_results\n",
       "2            lookup\n",
       "3    search_results\n",
       "4            lookup\n",
       "Name: action, dtype: object"
      ]
     },
     "execution_count": 47,
     "metadata": {},
     "output_type": "execute_result"
    }
   ],
   "source": [
    "# 特征提取，对数据集有一定了解之后\n",
    "# 需要针对 任务 对特征进行提取\n",
    "\n",
    "# 对 sessions 数据集特征进行提取\n",
    "\n",
    "# action 特征字段\n",
    "df_sessions.action.head()"
   ]
  },
  {
   "cell_type": "code",
   "execution_count": 48,
   "metadata": {},
   "outputs": [
    {
     "data": {
      "text/plain": [
       "1"
      ]
     },
     "execution_count": 48,
     "metadata": {},
     "output_type": "execute_result"
    }
   ],
   "source": [
    "df_sessions.action.value_counts().min()\n"
   ]
  },
  {
   "cell_type": "code",
   "execution_count": 49,
   "metadata": {},
   "outputs": [
    {
     "data": {
      "text/plain": [
       "2768278"
      ]
     },
     "execution_count": 49,
     "metadata": {},
     "output_type": "execute_result"
    }
   ],
   "source": [
    "df_sessions.action.value_counts().max()\n"
   ]
  },
  {
   "cell_type": "code",
   "execution_count": 51,
   "metadata": {},
   "outputs": [
    {
     "data": {
      "text/plain": [
       "0            lookup\n",
       "1    search_results\n",
       "2            lookup\n",
       "3    search_results\n",
       "4            lookup\n",
       "5    search_results\n",
       "6            lookup\n",
       "7       personalize\n",
       "8             index\n",
       "9            lookup\n",
       "Name: action, dtype: object"
      ]
     },
     "execution_count": 51,
     "metadata": {},
     "output_type": "execute_result"
    }
   ],
   "source": [
    "# 以上结果显示，用户的交互行为至少发生一次\n",
    "# 而且行为有多种形式\n",
    "\n",
    "# 将特征 action 次数低于阈值 100 的列为 OTHER（other）\n",
    "# Action values with low frequency are changed to 'OTHER'\n",
    "# 设置阈值 100\n",
    "act_freq = 100 \n",
    "\n",
    "# 用户具体行为和频率一一对应为字典形式\n",
    "# np.unique(df_sessions.action, return_counts=True) 取以数组形式返回非重复的 action值和它的数量\n",
    "# zip（*（a,b））  a,b种元素一一对应，返回 zip object\n",
    "act = dict(zip(*np.unique(df_sessions.action, return_counts=True)))\n",
    "\n",
    "# 将低于 100 次的行为设定为 other\n",
    "df_sessions.action = df_sessions.action.apply(lambda x: 'OTHER' if act[x] < act_freq else x)\n",
    "\n",
    "df_sessions.action[:10]"
   ]
  },
  {
   "cell_type": "code",
   "execution_count": 52,
   "metadata": {},
   "outputs": [
    {
     "data": {
      "text/html": [
       "<div>\n",
       "<style scoped>\n",
       "    .dataframe tbody tr th:only-of-type {\n",
       "        vertical-align: middle;\n",
       "    }\n",
       "\n",
       "    .dataframe tbody tr th {\n",
       "        vertical-align: top;\n",
       "    }\n",
       "\n",
       "    .dataframe thead th {\n",
       "        text-align: right;\n",
       "    }\n",
       "</style>\n",
       "<table border=\"1\" class=\"dataframe\">\n",
       "  <thead>\n",
       "    <tr style=\"text-align: right;\">\n",
       "      <th></th>\n",
       "      <th>c_0</th>\n",
       "      <th>c_1</th>\n",
       "      <th>c_2</th>\n",
       "      <th>c_3</th>\n",
       "      <th>c_4</th>\n",
       "      <th>c_5</th>\n",
       "      <th>c_6</th>\n",
       "      <th>c_7</th>\n",
       "      <th>c_8</th>\n",
       "      <th>c_9</th>\n",
       "      <th>...</th>\n",
       "      <th>c_448</th>\n",
       "      <th>c_449</th>\n",
       "      <th>c_450</th>\n",
       "      <th>c_451</th>\n",
       "      <th>c_452</th>\n",
       "      <th>c_453</th>\n",
       "      <th>c_454</th>\n",
       "      <th>c_455</th>\n",
       "      <th>c_456</th>\n",
       "      <th>id</th>\n",
       "    </tr>\n",
       "    <tr>\n",
       "      <th>id</th>\n",
       "      <th></th>\n",
       "      <th></th>\n",
       "      <th></th>\n",
       "      <th></th>\n",
       "      <th></th>\n",
       "      <th></th>\n",
       "      <th></th>\n",
       "      <th></th>\n",
       "      <th></th>\n",
       "      <th></th>\n",
       "      <th></th>\n",
       "      <th></th>\n",
       "      <th></th>\n",
       "      <th></th>\n",
       "      <th></th>\n",
       "      <th></th>\n",
       "      <th></th>\n",
       "      <th></th>\n",
       "      <th></th>\n",
       "      <th></th>\n",
       "      <th></th>\n",
       "    </tr>\n",
       "  </thead>\n",
       "  <tbody>\n",
       "    <tr>\n",
       "      <th>00023iyk9l</th>\n",
       "      <td>40.0</td>\n",
       "      <td>0.0</td>\n",
       "      <td>0.0</td>\n",
       "      <td>0.0</td>\n",
       "      <td>0.0</td>\n",
       "      <td>0.0</td>\n",
       "      <td>0.0</td>\n",
       "      <td>0.0</td>\n",
       "      <td>0.0</td>\n",
       "      <td>0.0</td>\n",
       "      <td>...</td>\n",
       "      <td>12.0</td>\n",
       "      <td>6.0</td>\n",
       "      <td>2.0</td>\n",
       "      <td>3.0</td>\n",
       "      <td>3.0</td>\n",
       "      <td>1.0</td>\n",
       "      <td>0.0</td>\n",
       "      <td>1.0</td>\n",
       "      <td>0.0</td>\n",
       "      <td>00023iyk9l</td>\n",
       "    </tr>\n",
       "    <tr>\n",
       "      <th>0010k6l0om</th>\n",
       "      <td>63.0</td>\n",
       "      <td>0.0</td>\n",
       "      <td>0.0</td>\n",
       "      <td>0.0</td>\n",
       "      <td>0.0</td>\n",
       "      <td>0.0</td>\n",
       "      <td>0.0</td>\n",
       "      <td>0.0</td>\n",
       "      <td>0.0</td>\n",
       "      <td>0.0</td>\n",
       "      <td>...</td>\n",
       "      <td>8.0</td>\n",
       "      <td>12.0</td>\n",
       "      <td>2.0</td>\n",
       "      <td>8.0</td>\n",
       "      <td>4.0</td>\n",
       "      <td>3.0</td>\n",
       "      <td>0.0</td>\n",
       "      <td>0.0</td>\n",
       "      <td>0.0</td>\n",
       "      <td>0010k6l0om</td>\n",
       "    </tr>\n",
       "    <tr>\n",
       "      <th>001wyh0pz8</th>\n",
       "      <td>90.0</td>\n",
       "      <td>0.0</td>\n",
       "      <td>0.0</td>\n",
       "      <td>0.0</td>\n",
       "      <td>0.0</td>\n",
       "      <td>0.0</td>\n",
       "      <td>0.0</td>\n",
       "      <td>0.0</td>\n",
       "      <td>0.0</td>\n",
       "      <td>0.0</td>\n",
       "      <td>...</td>\n",
       "      <td>27.0</td>\n",
       "      <td>30.0</td>\n",
       "      <td>9.0</td>\n",
       "      <td>8.0</td>\n",
       "      <td>1.0</td>\n",
       "      <td>0.0</td>\n",
       "      <td>0.0</td>\n",
       "      <td>0.0</td>\n",
       "      <td>0.0</td>\n",
       "      <td>001wyh0pz8</td>\n",
       "    </tr>\n",
       "    <tr>\n",
       "      <th>0028jgx1x1</th>\n",
       "      <td>31.0</td>\n",
       "      <td>0.0</td>\n",
       "      <td>0.0</td>\n",
       "      <td>0.0</td>\n",
       "      <td>0.0</td>\n",
       "      <td>0.0</td>\n",
       "      <td>0.0</td>\n",
       "      <td>0.0</td>\n",
       "      <td>0.0</td>\n",
       "      <td>0.0</td>\n",
       "      <td>...</td>\n",
       "      <td>1.0</td>\n",
       "      <td>2.0</td>\n",
       "      <td>3.0</td>\n",
       "      <td>5.0</td>\n",
       "      <td>4.0</td>\n",
       "      <td>1.0</td>\n",
       "      <td>0.0</td>\n",
       "      <td>0.0</td>\n",
       "      <td>0.0</td>\n",
       "      <td>0028jgx1x1</td>\n",
       "    </tr>\n",
       "    <tr>\n",
       "      <th>002qnbzfs5</th>\n",
       "      <td>789.0</td>\n",
       "      <td>0.0</td>\n",
       "      <td>0.0</td>\n",
       "      <td>0.0</td>\n",
       "      <td>0.0</td>\n",
       "      <td>0.0</td>\n",
       "      <td>0.0</td>\n",
       "      <td>0.0</td>\n",
       "      <td>0.0</td>\n",
       "      <td>0.0</td>\n",
       "      <td>...</td>\n",
       "      <td>111.0</td>\n",
       "      <td>102.0</td>\n",
       "      <td>104.0</td>\n",
       "      <td>57.0</td>\n",
       "      <td>28.0</td>\n",
       "      <td>9.0</td>\n",
       "      <td>4.0</td>\n",
       "      <td>1.0</td>\n",
       "      <td>1.0</td>\n",
       "      <td>002qnbzfs5</td>\n",
       "    </tr>\n",
       "  </tbody>\n",
       "</table>\n",
       "<p>5 rows × 458 columns</p>\n",
       "</div>"
      ],
      "text/plain": [
       "              c_0  c_1  c_2  c_3  c_4  c_5  c_6  c_7  c_8  c_9  ...  c_448  \\\n",
       "id                                                              ...          \n",
       "00023iyk9l   40.0  0.0  0.0  0.0  0.0  0.0  0.0  0.0  0.0  0.0  ...   12.0   \n",
       "0010k6l0om   63.0  0.0  0.0  0.0  0.0  0.0  0.0  0.0  0.0  0.0  ...    8.0   \n",
       "001wyh0pz8   90.0  0.0  0.0  0.0  0.0  0.0  0.0  0.0  0.0  0.0  ...   27.0   \n",
       "0028jgx1x1   31.0  0.0  0.0  0.0  0.0  0.0  0.0  0.0  0.0  0.0  ...    1.0   \n",
       "002qnbzfs5  789.0  0.0  0.0  0.0  0.0  0.0  0.0  0.0  0.0  0.0  ...  111.0   \n",
       "\n",
       "            c_449  c_450  c_451  c_452  c_453  c_454  c_455  c_456          id  \n",
       "id                                                                              \n",
       "00023iyk9l    6.0    2.0    3.0    3.0    1.0    0.0    1.0    0.0  00023iyk9l  \n",
       "0010k6l0om   12.0    2.0    8.0    4.0    3.0    0.0    0.0    0.0  0010k6l0om  \n",
       "001wyh0pz8   30.0    9.0    8.0    1.0    0.0    0.0    0.0    0.0  001wyh0pz8  \n",
       "0028jgx1x1    2.0    3.0    5.0    4.0    1.0    0.0    0.0    0.0  0028jgx1x1  \n",
       "002qnbzfs5  102.0  104.0   57.0   28.0    9.0    4.0    1.0    1.0  002qnbzfs5  \n",
       "\n",
       "[5 rows x 458 columns]"
      ]
     },
     "execution_count": 52,
     "metadata": {},
     "output_type": "execute_result"
    }
   ],
   "source": [
    "# 对特征 action，action_detail，action_type，device_type，secs_elapsed 进行细化\n",
    "\n",
    "# 首先将用户的特征根据用户 id 进行分组\n",
    "# 特征 action —— 统计每个用户总的 action 出现的次数，各个 action 类型的数量，平均值以及标准差\n",
    "# 特征 action_detail —— 统计每个用户总的 action_detail 出现的次数，各个 action_detail 类型的数量，平均值以及标准差\n",
    "# 特征 action_type —— 统计每个用户总的 action_type 出现的次数，各个 action_type 类型的数量，平均值，标准差以及总的停留时长（进行log处理）\n",
    "# 特征 device_type —— 统计每个用户总的 device_type 出现的次数，各个 device_type 类型的数量，平均值以及标准差\n",
    "# 特征 secs_elapsed —— 对缺失值用 0 填充，统计每个用户 secs_elapsed 时间的总和，平均值，\n",
    "#                       标准差以及中位数（进行log处理），（总和/平均数），secs_elapsed（log处理后）各个时间出现的次数\n",
    "\n",
    "\n",
    "\n",
    "# 对 action 特征进行细化，统计总的次数并排序\n",
    "f_act = df_sessions.action.value_counts().argsort()\n",
    "\n",
    "f_act_detail = df_sessions.action_detail.value_counts().argsort()\n",
    "\n",
    "f_act_type = df_sessions.action_type.value_counts().argsort()\n",
    "\n",
    "f_dev_type = df_sessions.device_type.value_counts().argsort()\n",
    "\n",
    "\n",
    "# 按照用户 id 进行分组\n",
    "dgr_sess = df_sessions.groupby(['id'])\n",
    "\n",
    "# 对分组进行循环，得到所有特征\n",
    "# Loop on dgr_sess to create all the features.\n",
    "samples = []\n",
    "ln = len(dgr_sess)\n",
    "for g in dgr_sess:  # 对 dgr_sess 中每个 id 的数据进行遍历\n",
    "    gr = g[1]\n",
    "    \n",
    "    l = []  # 建一个空列表，临时存放特征\n",
    "    \n",
    "    # the id    for example:'zzywmcn0jv'\n",
    "    l.append(g[0]) #将 id 值放入空列表中\n",
    "    \n",
    "    # number of total actions\n",
    "    l.append(len(gr)) # 将 id 对应数据的长度放入列表\n",
    "    \n",
    "    # secs_elapsed 特征中的缺失值用 0 填充再获取具体的停留时长值\n",
    "    sev = gr.secs_elapsed.fillna(0).values  \n",
    "    \n",
    "    # action features 特征-用户行为 \n",
    "    # 每个用户行为出现的次数，各个行为类型的数量，平均值以及标准差\n",
    "    c_act = [0] * len(f_act)\n",
    "    for i,v in enumerate(gr.action.values): # i是从 0-1对应的位置，v 是用户行为特征的值\n",
    "        c_act[f_act[v]] += 1\n",
    "    _, c_act_uqc = np.unique(gr.action.values, return_counts=True)\n",
    "    # 计算用户行为行为特征各个类型数量的长度，平均值以及标准差\n",
    "    c_act += [len(c_act_uqc), np.mean(c_act_uqc), np.std(c_act_uqc)]\n",
    "    l = l + c_act\n",
    "    \n",
    "    # action_detail features 特征-用户行为具体\n",
    "    # (how many times each value occurs, numb of unique values, mean and std)\n",
    "    c_act_detail = [0] * len(f_act_detail)\n",
    "    for i,v in enumerate(gr.action_detail.values):\n",
    "        c_act_detail[f_act_detail[v]] += 1\n",
    "    _, c_act_det_uqc = np.unique(gr.action_detail.values, return_counts=True)\n",
    "    c_act_detail += [len(c_act_det_uqc), np.mean(c_act_det_uqc), np.std(c_act_det_uqc)]\n",
    "    l = l + c_act_detail\n",
    "    \n",
    "    # action_type features  特征-用户行为类型 click等\n",
    "    # (how many times each value occurs, numb of unique values, mean and std\n",
    "    # + log of the sum of secs_elapsed for each value)\n",
    "    l_act_type = [0] * len(f_act_type)\n",
    "    c_act_type = [0] * len(f_act_type)\n",
    "    for i,v in enumerate(gr.action_type.values):\n",
    "        l_act_type[f_act_type[v]] += sev[i] # sev = gr.secs_elapsed.fillna(0).values ，求每个行为类型总的停留时长\n",
    "        c_act_type[f_act_type[v]] += 1  \n",
    "    l_act_type = np.log(1 + np.array(l_act_type)).tolist() # 每个行为类型总的停留时长，差异比较大，进行log处理\n",
    "    _, c_act_type_uqc = np.unique(gr.action_type.values, return_counts=True)\n",
    "    c_act_type += [len(c_act_type_uqc), np.mean(c_act_type_uqc), np.std(c_act_type_uqc)]\n",
    "    l = l + c_act_type + l_act_type    \n",
    "    \n",
    "    # device_type features 特征-设备类型\n",
    "    # (how many times each value occurs, numb of unique values, mean and std)\n",
    "    c_dev_type  = [0] * len(f_dev_type)\n",
    "    for i,v in enumerate(gr.device_type .values):\n",
    "        c_dev_type[f_dev_type[v]] += 1 \n",
    "    c_dev_type.append(len(np.unique(gr.device_type.values))) \n",
    "    _, c_dev_type_uqc = np.unique(gr.device_type.values, return_counts=True)\n",
    "    c_dev_type += [len(c_dev_type_uqc), np.mean(c_dev_type_uqc), np.std(c_dev_type_uqc)]        \n",
    "    l = l + c_dev_type    \n",
    "    \n",
    "    # secs_elapsed features  特征-停留时长     \n",
    "    l_secs = [0] * 5 \n",
    "    l_log = [0] * 15\n",
    "    if len(sev) > 0:\n",
    "        # Simple statistics about the secs_elapsed values.\n",
    "        l_secs[0] = np.log(1 + np.sum(sev))\n",
    "        l_secs[1] = np.log(1 + np.mean(sev)) \n",
    "        l_secs[2] = np.log(1 + np.std(sev))\n",
    "        l_secs[3] = np.log(1 + np.median(sev))\n",
    "        l_secs[4] = l_secs[0] / float(l[1]) #\n",
    "        \n",
    "        # Values are grouped in 15 intervals. Compute the number of values\n",
    "        # in each interval.\n",
    "        # sev = gr.secs_elapsed.fillna(0).values \n",
    "        log_sev = np.log(1 + sev).astype(int)\n",
    "        # np.bincount():Count number of occurrences of each value in array of non-negative ints.  \n",
    "        l_log = np.bincount(log_sev, minlength=15).tolist()                    \n",
    "    l = l + l_secs + l_log\n",
    "    \n",
    "    # The list l has the feature values of one sample.\n",
    "    samples.append(l)\n",
    "\n",
    "# preparing objects    \n",
    "samples = np.array(samples) \n",
    "samp_ar = samples[:, 1:].astype(np.float16) # 取除 id 外的特征数据\n",
    "samp_id = samples[:, 0]   # 取id，id位于第一列\n",
    "\n",
    "# 为提取的特征创建一个dataframe     \n",
    "col_names = []    # name of the columns\n",
    "for i in range(len(samples[0])-1):  # 减1的原因是因为有个id\n",
    "    col_names.append('c_' + str(i))  # 起名字的方式    \n",
    "df_agg_sess = pd.DataFrame(samp_ar, columns=col_names)\n",
    "df_agg_sess['id'] = samp_id\n",
    "df_agg_sess.index = df_agg_sess.id # 将id作为 index\n",
    "\n",
    "\n",
    "df_agg_sess.head()"
   ]
  },
  {
   "cell_type": "code",
   "execution_count": 54,
   "metadata": {},
   "outputs": [
    {
     "data": {
      "text/html": [
       "<div>\n",
       "<style scoped>\n",
       "    .dataframe tbody tr th:only-of-type {\n",
       "        vertical-align: middle;\n",
       "    }\n",
       "\n",
       "    .dataframe tbody tr th {\n",
       "        vertical-align: top;\n",
       "    }\n",
       "\n",
       "    .dataframe thead th {\n",
       "        text-align: right;\n",
       "    }\n",
       "</style>\n",
       "<table border=\"1\" class=\"dataframe\">\n",
       "  <thead>\n",
       "    <tr style=\"text-align: right;\">\n",
       "      <th></th>\n",
       "      <th>c_0</th>\n",
       "      <th>c_1</th>\n",
       "      <th>c_2</th>\n",
       "      <th>c_3</th>\n",
       "      <th>c_4</th>\n",
       "      <th>c_5</th>\n",
       "      <th>c_6</th>\n",
       "      <th>c_7</th>\n",
       "      <th>c_8</th>\n",
       "      <th>c_9</th>\n",
       "      <th>...</th>\n",
       "      <th>c_447</th>\n",
       "      <th>c_448</th>\n",
       "      <th>c_449</th>\n",
       "      <th>c_450</th>\n",
       "      <th>c_451</th>\n",
       "      <th>c_452</th>\n",
       "      <th>c_453</th>\n",
       "      <th>c_454</th>\n",
       "      <th>c_455</th>\n",
       "      <th>c_456</th>\n",
       "    </tr>\n",
       "  </thead>\n",
       "  <tbody>\n",
       "    <tr>\n",
       "      <th>count</th>\n",
       "      <td>135483.0</td>\n",
       "      <td>135483.000000</td>\n",
       "      <td>135483.000000</td>\n",
       "      <td>135483.000000</td>\n",
       "      <td>135483.000000</td>\n",
       "      <td>135483.000000</td>\n",
       "      <td>135483.000000</td>\n",
       "      <td>135483.000000</td>\n",
       "      <td>135483.000000</td>\n",
       "      <td>135483.000000</td>\n",
       "      <td>...</td>\n",
       "      <td>135483.0</td>\n",
       "      <td>135483.0</td>\n",
       "      <td>135483.0</td>\n",
       "      <td>135483.0</td>\n",
       "      <td>135483.0</td>\n",
       "      <td>135483.0</td>\n",
       "      <td>135483.0</td>\n",
       "      <td>135483.0</td>\n",
       "      <td>135483.000000</td>\n",
       "      <td>135483.000000</td>\n",
       "    </tr>\n",
       "    <tr>\n",
       "      <th>mean</th>\n",
       "      <td>NaN</td>\n",
       "      <td>0.000782</td>\n",
       "      <td>0.000878</td>\n",
       "      <td>0.000885</td>\n",
       "      <td>0.000878</td>\n",
       "      <td>0.000989</td>\n",
       "      <td>0.001026</td>\n",
       "      <td>0.001034</td>\n",
       "      <td>0.001144</td>\n",
       "      <td>0.001204</td>\n",
       "      <td>...</td>\n",
       "      <td>NaN</td>\n",
       "      <td>NaN</td>\n",
       "      <td>NaN</td>\n",
       "      <td>NaN</td>\n",
       "      <td>NaN</td>\n",
       "      <td>NaN</td>\n",
       "      <td>NaN</td>\n",
       "      <td>NaN</td>\n",
       "      <td>0.458008</td>\n",
       "      <td>0.119080</td>\n",
       "    </tr>\n",
       "    <tr>\n",
       "      <th>std</th>\n",
       "      <td>NaN</td>\n",
       "      <td>0.051697</td>\n",
       "      <td>0.034912</td>\n",
       "      <td>0.039551</td>\n",
       "      <td>0.051056</td>\n",
       "      <td>0.062866</td>\n",
       "      <td>0.146362</td>\n",
       "      <td>0.049957</td>\n",
       "      <td>0.038147</td>\n",
       "      <td>0.102478</td>\n",
       "      <td>...</td>\n",
       "      <td>NaN</td>\n",
       "      <td>NaN</td>\n",
       "      <td>NaN</td>\n",
       "      <td>NaN</td>\n",
       "      <td>NaN</td>\n",
       "      <td>0.0</td>\n",
       "      <td>0.0</td>\n",
       "      <td>0.0</td>\n",
       "      <td>0.000000</td>\n",
       "      <td>0.375488</td>\n",
       "    </tr>\n",
       "    <tr>\n",
       "      <th>min</th>\n",
       "      <td>1.0</td>\n",
       "      <td>0.000000</td>\n",
       "      <td>0.000000</td>\n",
       "      <td>0.000000</td>\n",
       "      <td>0.000000</td>\n",
       "      <td>0.000000</td>\n",
       "      <td>0.000000</td>\n",
       "      <td>0.000000</td>\n",
       "      <td>0.000000</td>\n",
       "      <td>0.000000</td>\n",
       "      <td>...</td>\n",
       "      <td>0.0</td>\n",
       "      <td>0.0</td>\n",
       "      <td>0.0</td>\n",
       "      <td>0.0</td>\n",
       "      <td>0.0</td>\n",
       "      <td>0.0</td>\n",
       "      <td>0.0</td>\n",
       "      <td>0.0</td>\n",
       "      <td>0.000000</td>\n",
       "      <td>0.000000</td>\n",
       "    </tr>\n",
       "    <tr>\n",
       "      <th>25%</th>\n",
       "      <td>16.0</td>\n",
       "      <td>0.000000</td>\n",
       "      <td>0.000000</td>\n",
       "      <td>0.000000</td>\n",
       "      <td>0.000000</td>\n",
       "      <td>0.000000</td>\n",
       "      <td>0.000000</td>\n",
       "      <td>0.000000</td>\n",
       "      <td>0.000000</td>\n",
       "      <td>0.000000</td>\n",
       "      <td>...</td>\n",
       "      <td>1.0</td>\n",
       "      <td>2.0</td>\n",
       "      <td>1.0</td>\n",
       "      <td>1.0</td>\n",
       "      <td>1.0</td>\n",
       "      <td>1.0</td>\n",
       "      <td>0.0</td>\n",
       "      <td>0.0</td>\n",
       "      <td>0.000000</td>\n",
       "      <td>0.000000</td>\n",
       "    </tr>\n",
       "    <tr>\n",
       "      <th>50%</th>\n",
       "      <td>41.0</td>\n",
       "      <td>0.000000</td>\n",
       "      <td>0.000000</td>\n",
       "      <td>0.000000</td>\n",
       "      <td>0.000000</td>\n",
       "      <td>0.000000</td>\n",
       "      <td>0.000000</td>\n",
       "      <td>0.000000</td>\n",
       "      <td>0.000000</td>\n",
       "      <td>0.000000</td>\n",
       "      <td>...</td>\n",
       "      <td>3.0</td>\n",
       "      <td>6.0</td>\n",
       "      <td>4.0</td>\n",
       "      <td>4.0</td>\n",
       "      <td>4.0</td>\n",
       "      <td>4.0</td>\n",
       "      <td>2.0</td>\n",
       "      <td>0.0</td>\n",
       "      <td>0.000000</td>\n",
       "      <td>0.000000</td>\n",
       "    </tr>\n",
       "    <tr>\n",
       "      <th>75%</th>\n",
       "      <td>95.0</td>\n",
       "      <td>0.000000</td>\n",
       "      <td>0.000000</td>\n",
       "      <td>0.000000</td>\n",
       "      <td>0.000000</td>\n",
       "      <td>0.000000</td>\n",
       "      <td>0.000000</td>\n",
       "      <td>0.000000</td>\n",
       "      <td>0.000000</td>\n",
       "      <td>0.000000</td>\n",
       "      <td>...</td>\n",
       "      <td>9.0</td>\n",
       "      <td>16.0</td>\n",
       "      <td>13.0</td>\n",
       "      <td>10.0</td>\n",
       "      <td>11.0</td>\n",
       "      <td>8.0</td>\n",
       "      <td>4.0</td>\n",
       "      <td>1.0</td>\n",
       "      <td>1.000000</td>\n",
       "      <td>0.000000</td>\n",
       "    </tr>\n",
       "    <tr>\n",
       "      <th>max</th>\n",
       "      <td>2722.0</td>\n",
       "      <td>9.000000</td>\n",
       "      <td>3.000000</td>\n",
       "      <td>6.000000</td>\n",
       "      <td>13.000000</td>\n",
       "      <td>11.000000</td>\n",
       "      <td>49.000000</td>\n",
       "      <td>5.000000</td>\n",
       "      <td>3.000000</td>\n",
       "      <td>30.000000</td>\n",
       "      <td>...</td>\n",
       "      <td>1439.0</td>\n",
       "      <td>2338.0</td>\n",
       "      <td>730.0</td>\n",
       "      <td>315.0</td>\n",
       "      <td>308.0</td>\n",
       "      <td>164.0</td>\n",
       "      <td>95.0</td>\n",
       "      <td>42.0</td>\n",
       "      <td>16.000000</td>\n",
       "      <td>8.000000</td>\n",
       "    </tr>\n",
       "  </tbody>\n",
       "</table>\n",
       "<p>8 rows × 457 columns</p>\n",
       "</div>"
      ],
      "text/plain": [
       "            c_0            c_1            c_2            c_3            c_4  \\\n",
       "count  135483.0  135483.000000  135483.000000  135483.000000  135483.000000   \n",
       "mean        NaN       0.000782       0.000878       0.000885       0.000878   \n",
       "std         NaN       0.051697       0.034912       0.039551       0.051056   \n",
       "min         1.0       0.000000       0.000000       0.000000       0.000000   \n",
       "25%        16.0       0.000000       0.000000       0.000000       0.000000   \n",
       "50%        41.0       0.000000       0.000000       0.000000       0.000000   \n",
       "75%        95.0       0.000000       0.000000       0.000000       0.000000   \n",
       "max      2722.0       9.000000       3.000000       6.000000      13.000000   \n",
       "\n",
       "                 c_5            c_6            c_7            c_8  \\\n",
       "count  135483.000000  135483.000000  135483.000000  135483.000000   \n",
       "mean        0.000989       0.001026       0.001034       0.001144   \n",
       "std         0.062866       0.146362       0.049957       0.038147   \n",
       "min         0.000000       0.000000       0.000000       0.000000   \n",
       "25%         0.000000       0.000000       0.000000       0.000000   \n",
       "50%         0.000000       0.000000       0.000000       0.000000   \n",
       "75%         0.000000       0.000000       0.000000       0.000000   \n",
       "max        11.000000      49.000000       5.000000       3.000000   \n",
       "\n",
       "                 c_9  ...     c_447     c_448     c_449     c_450     c_451  \\\n",
       "count  135483.000000  ...  135483.0  135483.0  135483.0  135483.0  135483.0   \n",
       "mean        0.001204  ...       NaN       NaN       NaN       NaN       NaN   \n",
       "std         0.102478  ...       NaN       NaN       NaN       NaN       NaN   \n",
       "min         0.000000  ...       0.0       0.0       0.0       0.0       0.0   \n",
       "25%         0.000000  ...       1.0       2.0       1.0       1.0       1.0   \n",
       "50%         0.000000  ...       3.0       6.0       4.0       4.0       4.0   \n",
       "75%         0.000000  ...       9.0      16.0      13.0      10.0      11.0   \n",
       "max        30.000000  ...    1439.0    2338.0     730.0     315.0     308.0   \n",
       "\n",
       "          c_452     c_453     c_454          c_455          c_456  \n",
       "count  135483.0  135483.0  135483.0  135483.000000  135483.000000  \n",
       "mean        NaN       NaN       NaN       0.458008       0.119080  \n",
       "std         0.0       0.0       0.0       0.000000       0.375488  \n",
       "min         0.0       0.0       0.0       0.000000       0.000000  \n",
       "25%         1.0       0.0       0.0       0.000000       0.000000  \n",
       "50%         4.0       2.0       0.0       0.000000       0.000000  \n",
       "75%         8.0       4.0       1.0       1.000000       0.000000  \n",
       "max       164.0      95.0      42.0      16.000000       8.000000  \n",
       "\n",
       "[8 rows x 457 columns]"
      ]
     },
     "execution_count": 54,
     "metadata": {},
     "output_type": "execute_result"
    }
   ],
   "source": [
    "# 通过对 sessions 数据集的特征提取\n",
    "# session 数据集由 6 个特征变为 458 个特征\n",
    "df_agg_sess.describe()"
   ]
  },
  {
   "cell_type": "code",
   "execution_count": 70,
   "metadata": {},
   "outputs": [],
   "source": [
    "# 对 trian 和 test 数据集进行特征提取\n",
    "# 标记 train 数据集的行数和存储进行预测的目标变量\n",
    "# labels 存储了进行预测的目标变量 country_destination\n",
    "\n",
    "train = pd.read_csv(dataset_path + \"train_users_2.csv.zip\")\n",
    "test = pd.read_csv(dataset_path + \"test_users.csv.zip\")\n",
    "\n",
    "# 计算出 train 的行数，便于之后对 train 和 test 数据进行分离操作\n",
    "train_row = train.shape[0]\n",
    "\n",
    "# The label we need to predict\n",
    "labels = train['country_destination'].values\n",
    "\n",
    "\n",
    "# 删除 date_first_booking 和 train 文件中的 country_destination\n",
    "# 数据探索时发现 date_first_booking 在 train 和 test 文件中缺失值太多，故删除\n",
    "# 删除 country_destination，用模型预测 country_destination，再与已经存储 country_destination 的 labels 进行比较，从而判断模型优劣\n",
    "train.drop(['country_destination', 'date_first_booking'], axis = 1, inplace = True)\n",
    "test.drop(['date_first_booking'], axis = 1, inplace = True)\n",
    "\n",
    "\n",
    "# 合并 train 和 test 数据集\n",
    "# 便于进行相同的特征提取操作\n",
    "df = pd.concat([train, test], axis = 0, ignore_index = True)\n",
    "\n",
    "# 其他特征处理\n",
    "# 在数据探索时，发现剩余的特征 lables 都比较少，故不进一步进行特征提取，只进行 one-hot-encoding 处理\n",
    "feat_toOHE = ['gender', \n",
    "             'signup_method', \n",
    "             'signup_flow', \n",
    "             'language', \n",
    "             'affiliate_channel', \n",
    "             'affiliate_provider', \n",
    "             'first_affiliate_tracked', \n",
    "             'signup_app', \n",
    "             'first_device_type', \n",
    "             'first_browser']\n",
    "\n",
    "# 对其他特征进行 one-hot-encoding 处理\n",
    "for f in feat_toOHE:\n",
    "    df_ohe = pd.get_dummies(df[f], prefix=f, dummy_na=True)\n",
    "    df.drop([f], axis = 1, inplace = True)\n",
    "    df = pd.concat((df, df_ohe), axis = 1)\n"
   ]
  },
  {
   "cell_type": "code",
   "execution_count": 71,
   "metadata": {},
   "outputs": [],
   "source": [
    "# timestamp_first_active 将时间戳格式转换为 datetime 类型\n",
    "tfa = df.timestamp_first_active.astype(str).apply(\n",
    "                                lambda x: datetime.datetime(int(x[:4]), int(x[4:6]), int(x[6:8]),\n",
    "                                                            int(x[8:10]), int(x[10:12]), int(x[12:])))\n",
    "\n",
    "# 提取 年 月 日\n",
    "# create tfa_year, tfa_month, tfa_day feature\n",
    "df['tfa_year'] = np.array([x.year for x in tfa])\n",
    "df['tfa_month'] = np.array([x.month for x in tfa])\n",
    "df['tfa_day'] = np.array([x.day for x in tfa])\n",
    "\n",
    "\n",
    "# 提取特征：weekday 并对结果进行 one hot encoding 编码\n",
    "# isoweekday() 可以返回一周的星期几，e.g.星期日：0；星期一：1\n",
    "df['tfa_wd'] = np.array([x.isoweekday() for x in tfa])\n",
    "\n",
    "# one hot encoding\n",
    "df_tfa_wd = pd.get_dummies(df.tfa_wd, prefix = 'tfa_wd')\n",
    "\n",
    "# 添加 df['tfa_wd'] 编码后的特征\n",
    "df = pd.concat((df, df_tfa_wd), axis = 1)\n",
    "\n",
    "# 删除原有未编码的特征\n",
    "df.drop(['tfa_wd'], axis = 1, inplace = True)\n",
    "\n",
    "\n",
    "\n",
    "# 提取特征：季节   因为判断季节关注的是月份，故对年份进行统一\n",
    "Y = 2000\n",
    "seasons = [(0, (date(Y,  1,  1),  date(Y,  3, 20))),  # 'winter'\n",
    "           (1, (date(Y,  3, 21),  date(Y,  6, 20))),  # 'spring'\n",
    "           (2, (date(Y,  6, 21),  date(Y,  9, 22))),  # 'summer'\n",
    "           (3, (date(Y,  9, 23),  date(Y, 12, 20))),  # 'autumn'\n",
    "           (0, (date(Y, 12, 21),  date(Y, 12, 31)))]  # 'winter'\n",
    "\n",
    "def get_season(dt):\n",
    "    dt = dt.date() # 获取日期\n",
    "    dt = dt.replace(year=Y) # 将年统一换成 2000 年\n",
    "    return next(season for season, (start, end) in seasons if start <= dt <= end)\n",
    "\n",
    "df['tfa_season'] = np.array([get_season(x) for x in tfa])\n",
    "\n",
    "# one hot encoding \n",
    "df_tfa_season = pd.get_dummies(df.tfa_season, prefix = 'tfa_season')\n",
    "df = pd.concat((df, df_tfa_season), axis = 1)\n",
    "df.drop(['tfa_season'], axis = 1, inplace = True)\n"
   ]
  },
  {
   "cell_type": "code",
   "execution_count": 72,
   "metadata": {},
   "outputs": [
    {
     "data": {
      "text/plain": [
       "-1     275369\n",
       " 0          7\n",
       " 6          4\n",
       " 5          4\n",
       " 1          4\n",
       " 2          3\n",
       " 3          3\n",
       " 4          3\n",
       " 28         3\n",
       " 94         2\n",
       "dtype: int64"
      ]
     },
     "execution_count": 72,
     "metadata": {},
     "output_type": "execute_result"
    }
   ],
   "source": [
    "# date_account_created    \n",
    "# 将 date_account_created 转换为 datetime 类型\n",
    "dac = pd.to_datetime(df.date_account_created)\n",
    "\n",
    "# 提取 年 月 日\n",
    "# create year, month, day feature for dac\n",
    "df['dac_year'] = np.array([x.year for x in dac])\n",
    "df['dac_month'] = np.array([x.month for x in dac])\n",
    "df['dac_day'] = np.array([x.day for x in dac])\n",
    "\n",
    "# 提取 weekday\n",
    "# create features of weekday for dac\n",
    "df['dac_wd'] = np.array([x.isoweekday() for x in dac])\n",
    "df_dac_wd = pd.get_dummies(df.dac_wd, prefix = 'dac_wd')\n",
    "df = pd.concat((df, df_dac_wd), axis = 1)\n",
    "df.drop(['dac_wd'], axis = 1, inplace = True)\n",
    "\n",
    "\n",
    "# 提取季节\n",
    "# create season features fro dac\n",
    "df['dac_season'] = np.array([get_season(x) for x in dac])\n",
    "df_dac_season = pd.get_dummies(df.dac_season, prefix = 'dac_season')\n",
    "df = pd.concat((df, df_dac_season), axis = 1)\n",
    "df.drop(['dac_season'], axis = 1, inplace = True)\n",
    "\n",
    "\n",
    "# 提取特征：date_account_created 和 timestamp_first_active 之间的差值\n",
    "# 即用户在 airbnb 平台活跃到正式注册所花的时间\n",
    "dt_span = dac.subtract(tfa).dt.days \n",
    "\n",
    "# 查看 dt_span 的头十行数据\n",
    "dt_span.value_counts().head(10)\n"
   ]
  },
  {
   "cell_type": "code",
   "execution_count": 73,
   "metadata": {},
   "outputs": [],
   "source": [
    "# 以上结果显示可知分析\n",
    "#      数据主要集中在 -1，可以猜测，用户当天注册dt_span值便是-1\n",
    "\n",
    "# 从差值提取特征：差值为一天，一月，一年和其他\n",
    "# 即用户活跃到注册花费的时间为一天，一月，一年或其他\n",
    "# create categorical feature: span = -1; -1 < span < 30; 31 < span < 365; span > 365\n",
    "def get_span(dt):\n",
    "    # dt is an integer\n",
    "    if dt == -1:\n",
    "        return 'OneDay'\n",
    "    elif (dt < 30) & (dt > -1):\n",
    "        return 'OneMonth'\n",
    "    elif (dt >= 30) & (dt <= 365):\n",
    "        return 'OneYear'\n",
    "    else:\n",
    "        return 'other'\n",
    "\n",
    "df['dt_span'] = np.array([get_span(x) for x in dt_span])\n",
    "df_dt_span = pd.get_dummies(df.dt_span, prefix = 'dt_span')\n",
    "df = pd.concat((df, df_dt_span), axis = 1)\n",
    "df.drop(['dt_span'], axis = 1, inplace = True)\n",
    "\n",
    "\n",
    "# 删除原有的特征\n",
    "# 对 timestamp_first_active，date_account_created 进行特征提取后，从特征列表中删除原有的特征\n",
    "df.drop(['date_account_created','timestamp_first_active'], axis = 1, inplace = True)\n"
   ]
  },
  {
   "cell_type": "code",
   "execution_count": 74,
   "metadata": {},
   "outputs": [],
   "source": [
    "# age 特征字段\n",
    "# Age 获取年龄\n",
    "av = df.age.values\n",
    "\n",
    "# 在数据探索阶段，发现大部分数据是集中在（15，90）区间的，\n",
    "# 但有部分年龄分布在（1900，2000）区间，\n",
    "# 猜测用户是把出生日期误填为年龄，故进行预处理\n",
    "# This are birthdays instead of age (estimating age by doing 2014 - value)\n",
    "# 数据来自2014年，故用 2014 - value\n",
    "av = np.where(np.logical_and(av<2000, av>1900), 2014-av, av)\n",
    "\n",
    "df['age'] = av\n",
    "\n",
    "\n",
    "# 将年龄进行分段\n",
    "# Age has many abnormal values that we need to deal with. \n",
    "age = df.age\n",
    "age.fillna(-1, inplace = True) #空值填充为-1\n",
    "div = 15\n",
    "def get_age(age):\n",
    "    # age is a float number  将连续型转换为离散型\n",
    "    if age < 0:\n",
    "        return 'NA' #表示是空值\n",
    "    elif (age < div):\n",
    "        return div #如果年龄小于15岁，那么返回15岁\n",
    "    elif (age <= div * 2):\n",
    "        return div*2 #如果年龄大于15小于等于30岁，则返回30岁\n",
    "    elif (age <= div * 3):\n",
    "        return div * 3\n",
    "    elif (age <= div * 4):\n",
    "        return div * 4\n",
    "    elif (age <= div * 5):\n",
    "        return div * 5\n",
    "    elif (age <= 110):\n",
    "        return div * 6\n",
    "    else:\n",
    "        return 'Unphysical' #非正常年龄\n",
    "\n",
    "\n",
    "# 将分段后的年龄作为新的特征放入特征列表中\n",
    "df['age'] = np.array([get_age(x) for x in age])\n",
    "df_age = pd.get_dummies(df.age, prefix = 'age')\n",
    "df = pd.concat((df, df_age), axis = 1)\n",
    "df.drop(['age'], axis = 1, inplace = True)\n"
   ]
  },
  {
   "cell_type": "code",
   "execution_count": 95,
   "metadata": {},
   "outputs": [],
   "source": [
    "# 将对 session 提取的特征整合到一起\n",
    "df_all = pd.merge(df, df_agg_sess, how='left', on='id')\n",
    "df_all = df_all.drop(['id'], axis=1) # 删除id\n",
    "df_all = df_all.fillna(-2)  # 对没有 sesssion data 的特征进行缺失值处理\n",
    "\n",
    "#加了一列，表示每一行总共有多少空值，这也作为一个特征\n",
    "df_all['all_null'] = np.array([sum(r<0) for r in df_all.values]) \n"
   ]
  },
  {
   "cell_type": "code",
   "execution_count": 96,
   "metadata": {},
   "outputs": [
    {
     "data": {
      "text/html": [
       "<div>\n",
       "<style scoped>\n",
       "    .dataframe tbody tr th:only-of-type {\n",
       "        vertical-align: middle;\n",
       "    }\n",
       "\n",
       "    .dataframe tbody tr th {\n",
       "        vertical-align: top;\n",
       "    }\n",
       "\n",
       "    .dataframe thead th {\n",
       "        text-align: right;\n",
       "    }\n",
       "</style>\n",
       "<table border=\"1\" class=\"dataframe\">\n",
       "  <thead>\n",
       "    <tr style=\"text-align: right;\">\n",
       "      <th></th>\n",
       "      <th>gender_-unknown-</th>\n",
       "      <th>gender_FEMALE</th>\n",
       "      <th>gender_MALE</th>\n",
       "      <th>gender_OTHER</th>\n",
       "      <th>gender_nan</th>\n",
       "      <th>signup_method_basic</th>\n",
       "      <th>signup_method_facebook</th>\n",
       "      <th>signup_method_google</th>\n",
       "      <th>signup_method_weibo</th>\n",
       "      <th>signup_method_nan</th>\n",
       "      <th>...</th>\n",
       "      <th>c_448</th>\n",
       "      <th>c_449</th>\n",
       "      <th>c_450</th>\n",
       "      <th>c_451</th>\n",
       "      <th>c_452</th>\n",
       "      <th>c_453</th>\n",
       "      <th>c_454</th>\n",
       "      <th>c_455</th>\n",
       "      <th>c_456</th>\n",
       "      <th>all_null</th>\n",
       "    </tr>\n",
       "  </thead>\n",
       "  <tbody>\n",
       "    <tr>\n",
       "      <th>0</th>\n",
       "      <td>1</td>\n",
       "      <td>0</td>\n",
       "      <td>0</td>\n",
       "      <td>0</td>\n",
       "      <td>0</td>\n",
       "      <td>0</td>\n",
       "      <td>1</td>\n",
       "      <td>0</td>\n",
       "      <td>0</td>\n",
       "      <td>0</td>\n",
       "      <td>...</td>\n",
       "      <td>-2.0</td>\n",
       "      <td>-2.0</td>\n",
       "      <td>-2.0</td>\n",
       "      <td>-2.0</td>\n",
       "      <td>-2.0</td>\n",
       "      <td>-2.0</td>\n",
       "      <td>-2.0</td>\n",
       "      <td>-2.0</td>\n",
       "      <td>-2.0</td>\n",
       "      <td>457</td>\n",
       "    </tr>\n",
       "    <tr>\n",
       "      <th>1</th>\n",
       "      <td>0</td>\n",
       "      <td>0</td>\n",
       "      <td>1</td>\n",
       "      <td>0</td>\n",
       "      <td>0</td>\n",
       "      <td>0</td>\n",
       "      <td>1</td>\n",
       "      <td>0</td>\n",
       "      <td>0</td>\n",
       "      <td>0</td>\n",
       "      <td>...</td>\n",
       "      <td>-2.0</td>\n",
       "      <td>-2.0</td>\n",
       "      <td>-2.0</td>\n",
       "      <td>-2.0</td>\n",
       "      <td>-2.0</td>\n",
       "      <td>-2.0</td>\n",
       "      <td>-2.0</td>\n",
       "      <td>-2.0</td>\n",
       "      <td>-2.0</td>\n",
       "      <td>457</td>\n",
       "    </tr>\n",
       "    <tr>\n",
       "      <th>2</th>\n",
       "      <td>0</td>\n",
       "      <td>1</td>\n",
       "      <td>0</td>\n",
       "      <td>0</td>\n",
       "      <td>0</td>\n",
       "      <td>1</td>\n",
       "      <td>0</td>\n",
       "      <td>0</td>\n",
       "      <td>0</td>\n",
       "      <td>0</td>\n",
       "      <td>...</td>\n",
       "      <td>-2.0</td>\n",
       "      <td>-2.0</td>\n",
       "      <td>-2.0</td>\n",
       "      <td>-2.0</td>\n",
       "      <td>-2.0</td>\n",
       "      <td>-2.0</td>\n",
       "      <td>-2.0</td>\n",
       "      <td>-2.0</td>\n",
       "      <td>-2.0</td>\n",
       "      <td>457</td>\n",
       "    </tr>\n",
       "    <tr>\n",
       "      <th>3</th>\n",
       "      <td>0</td>\n",
       "      <td>1</td>\n",
       "      <td>0</td>\n",
       "      <td>0</td>\n",
       "      <td>0</td>\n",
       "      <td>0</td>\n",
       "      <td>1</td>\n",
       "      <td>0</td>\n",
       "      <td>0</td>\n",
       "      <td>0</td>\n",
       "      <td>...</td>\n",
       "      <td>-2.0</td>\n",
       "      <td>-2.0</td>\n",
       "      <td>-2.0</td>\n",
       "      <td>-2.0</td>\n",
       "      <td>-2.0</td>\n",
       "      <td>-2.0</td>\n",
       "      <td>-2.0</td>\n",
       "      <td>-2.0</td>\n",
       "      <td>-2.0</td>\n",
       "      <td>457</td>\n",
       "    </tr>\n",
       "    <tr>\n",
       "      <th>4</th>\n",
       "      <td>1</td>\n",
       "      <td>0</td>\n",
       "      <td>0</td>\n",
       "      <td>0</td>\n",
       "      <td>0</td>\n",
       "      <td>1</td>\n",
       "      <td>0</td>\n",
       "      <td>0</td>\n",
       "      <td>0</td>\n",
       "      <td>0</td>\n",
       "      <td>...</td>\n",
       "      <td>-2.0</td>\n",
       "      <td>-2.0</td>\n",
       "      <td>-2.0</td>\n",
       "      <td>-2.0</td>\n",
       "      <td>-2.0</td>\n",
       "      <td>-2.0</td>\n",
       "      <td>-2.0</td>\n",
       "      <td>-2.0</td>\n",
       "      <td>-2.0</td>\n",
       "      <td>457</td>\n",
       "    </tr>\n",
       "  </tbody>\n",
       "</table>\n",
       "<p>5 rows × 661 columns</p>\n",
       "</div>"
      ],
      "text/plain": [
       "   gender_-unknown-  gender_FEMALE  gender_MALE  gender_OTHER  gender_nan  \\\n",
       "0                 1              0            0             0           0   \n",
       "1                 0              0            1             0           0   \n",
       "2                 0              1            0             0           0   \n",
       "3                 0              1            0             0           0   \n",
       "4                 1              0            0             0           0   \n",
       "\n",
       "   signup_method_basic  signup_method_facebook  signup_method_google  \\\n",
       "0                    0                       1                     0   \n",
       "1                    0                       1                     0   \n",
       "2                    1                       0                     0   \n",
       "3                    0                       1                     0   \n",
       "4                    1                       0                     0   \n",
       "\n",
       "   signup_method_weibo  signup_method_nan  ...  c_448  c_449  c_450  c_451  \\\n",
       "0                    0                  0  ...   -2.0   -2.0   -2.0   -2.0   \n",
       "1                    0                  0  ...   -2.0   -2.0   -2.0   -2.0   \n",
       "2                    0                  0  ...   -2.0   -2.0   -2.0   -2.0   \n",
       "3                    0                  0  ...   -2.0   -2.0   -2.0   -2.0   \n",
       "4                    0                  0  ...   -2.0   -2.0   -2.0   -2.0   \n",
       "\n",
       "   c_452  c_453  c_454  c_455  c_456  all_null  \n",
       "0   -2.0   -2.0   -2.0   -2.0   -2.0       457  \n",
       "1   -2.0   -2.0   -2.0   -2.0   -2.0       457  \n",
       "2   -2.0   -2.0   -2.0   -2.0   -2.0       457  \n",
       "3   -2.0   -2.0   -2.0   -2.0   -2.0       457  \n",
       "4   -2.0   -2.0   -2.0   -2.0   -2.0       457  \n",
       "\n",
       "[5 rows x 661 columns]"
      ]
     },
     "execution_count": 96,
     "metadata": {},
     "output_type": "execute_result"
    }
   ],
   "source": [
    "# 数据准备\n",
    "\n",
    "# 将 train 和 test 数据进行分离操作\n",
    "# train_row 是之前记录的 train 数据行数\n",
    "Xtrain = df_all.iloc[:train_row, :]\n",
    "Xtest = df_all.iloc[train_row:, :]\n",
    "\n",
    "\n",
    "# 将提取的特征生成 CSV 文件保存\n",
    "Xtrain.to_csv(dataset_path + \"Airbnb_xtrain_v2.csv\")\n",
    "Xtest.to_csv(dataset_path + \"Airbnb_xtest_v2.csv\")\n",
    "\n",
    "# labels.tofile（）：Write array to a file as text or binary (default)\n",
    "labels.tofile(dataset_path + \"Airbnb_ytrain_v2.csv\", sep='\\n', format='%s') # 存放目标变量\n",
    "\n",
    "# 读取特征文件\n",
    "xtrain = pd.read_csv(dataset_path + \"Airbnb_xtrain_v2.csv\", index_col=0)\n",
    "ytrain = pd.read_csv(dataset_path + \"Airbnb_ytrain_v2.csv\", header=None)\n",
    "\n",
    "xtrain.head()\n"
   ]
  },
  {
   "cell_type": "code",
   "execution_count": 97,
   "metadata": {},
   "outputs": [
    {
     "data": {
      "text/html": [
       "<div>\n",
       "<style scoped>\n",
       "    .dataframe tbody tr th:only-of-type {\n",
       "        vertical-align: middle;\n",
       "    }\n",
       "\n",
       "    .dataframe tbody tr th {\n",
       "        vertical-align: top;\n",
       "    }\n",
       "\n",
       "    .dataframe thead th {\n",
       "        text-align: right;\n",
       "    }\n",
       "</style>\n",
       "<table border=\"1\" class=\"dataframe\">\n",
       "  <thead>\n",
       "    <tr style=\"text-align: right;\">\n",
       "      <th></th>\n",
       "      <th>0</th>\n",
       "    </tr>\n",
       "  </thead>\n",
       "  <tbody>\n",
       "    <tr>\n",
       "      <th>0</th>\n",
       "      <td>NDF</td>\n",
       "    </tr>\n",
       "    <tr>\n",
       "      <th>1</th>\n",
       "      <td>NDF</td>\n",
       "    </tr>\n",
       "    <tr>\n",
       "      <th>2</th>\n",
       "      <td>US</td>\n",
       "    </tr>\n",
       "    <tr>\n",
       "      <th>3</th>\n",
       "      <td>other</td>\n",
       "    </tr>\n",
       "    <tr>\n",
       "      <th>4</th>\n",
       "      <td>US</td>\n",
       "    </tr>\n",
       "  </tbody>\n",
       "</table>\n",
       "</div>"
      ],
      "text/plain": [
       "       0\n",
       "0    NDF\n",
       "1    NDF\n",
       "2     US\n",
       "3  other\n",
       "4     US"
      ]
     },
     "execution_count": 97,
     "metadata": {},
     "output_type": "execute_result"
    }
   ],
   "source": [
    "ytrain.head()\n"
   ]
  },
  {
   "cell_type": "code",
   "execution_count": 98,
   "metadata": {},
   "outputs": [],
   "source": [
    "# 分析：可以发现经过特征提取后特征文件 xtrain 扩展为 665 个特征，ytrain 中包含训练集中的目标变量\n",
    "# # 将目标变量进行 labels encoding\n",
    "\n",
    "# labels encoding前：\n",
    "# [‘AU’, ‘CA’, ‘DE’, ‘ES’, ‘FR’, ‘GB’, ‘IT’, ‘NDF’, ‘NL’, ‘PT’, ‘US’,‘other’]\n",
    "# labels encoding后：\n",
    "# [0, 1, 2, 3, 4, 5, 6, 7, 8, 9, 10, 11]\n",
    "\n",
    "le = LabelEncoder()\n",
    "ytrain_le = le.fit_transform(ytrain.values)\n",
    "\n",
    "\n",
    "# 提取 10% 进行模型训练\n",
    "# Let us take 10% of the data for faster training. \n",
    "n = int(xtrain.shape[0]*0.1)\n",
    "xtrain_new = xtrain.iloc[:n, :]  # 训练数据\n",
    "ytrain_new = ytrain_le[:n]       # 训练数据的目标变量\n",
    "\n",
    "\n",
    "\n",
    "# StandardScaling the dataset\n",
    "# 标准缩放数据集\n",
    "# Standardization of a dataset is a common requirement for many machine learning estimators: \n",
    "# they might behave badly if the individual feature do not more or less look like standard normally distributed data\n",
    "# (e.g. Gaussian with 0 mean and unit variance)\n",
    "# 数据集标准化是许多机器学习估计器的普遍要求：\n",
    "# 如果单个特征或多或少看起来不像标准正态分布数据（例如均值和单位方差为0的高斯），它们可能表现不佳。\n",
    "X_scaler = StandardScaler()\n",
    "xtrain_new = X_scaler.fit_transform(xtrain_new)\n"
   ]
  },
  {
   "cell_type": "code",
   "execution_count": 99,
   "metadata": {},
   "outputs": [],
   "source": [
    "# 评测指标 DNCG\n",
    "\n",
    "# 1、NDCG 是一种衡量排序质量的评价指标，该指标考虑了所有元素的相关性\n",
    "# 2、由于预测的目标变量并不是二分类变量，故用 NDGG 模型来进行模型评分，判断模型优劣\n",
    "\n",
    "from sklearn.metrics import make_scorer\n",
    "\n",
    "def dcg_score(y_true, y_score, k=5):\n",
    "    \n",
    "    \"\"\"\n",
    "    y_true : array, shape = [n_samples] # 数据\n",
    "        Ground truth (true relevance labels).\n",
    "    y_score : array, shape = [n_samples, n_classes] # 预测的分数\n",
    "        Predicted scores.\n",
    "    k : int\n",
    "    \"\"\"\n",
    "    order = np.argsort(y_score)[::-1] # 分数从高到低排序\n",
    "    y_true = np.take(y_true, order[:k]) # 取出前 k[0,k）个分数\n",
    "      \n",
    "    gain = 2 ** y_true - 1   \n",
    "\n",
    "    discounts = np.log2(np.arange(len(y_true)) + 2)\n",
    "    return np.sum(gain / discounts)\n",
    "  \n",
    "\n",
    "def ndcg_score(ground_truth, predictions, k=5):   \n",
    "\n",
    "    \"\"\"\n",
    "    Parameters\n",
    "    ----------\n",
    "    ground_truth : array, shape = [n_samples]\n",
    "        Ground truth (true labels represended as integers).\n",
    "    predictions : array, shape = [n_samples, n_classes] \n",
    "        Predicted probabilities. 预测的概率\n",
    "    k : int\n",
    "        Rank.\n",
    "    \"\"\"\n",
    "    lb = LabelBinarizer()\n",
    "    lb.fit(range(len(predictions) + 1))\n",
    "    T = lb.transform(ground_truth)    \n",
    "    scores = []\n",
    "    # Iterate over each y_true and compute the DCG score\n",
    "    for y_true, y_score in zip(T, predictions):\n",
    "        actual = dcg_score(y_true, y_score, k)\n",
    "        best = dcg_score(y_true, y_true, k)\n",
    "        score = float(actual) / float(best)\n",
    "        scores.append(score)\n",
    "\n",
    "    return np.mean(scores)\n"
   ]
  },
  {
   "cell_type": "code",
   "execution_count": null,
   "metadata": {},
   "outputs": [],
   "source": []
  }
 ],
 "metadata": {
  "kernelspec": {
   "display_name": "Python 3",
   "language": "python",
   "name": "python3"
  },
  "language_info": {
   "codemirror_mode": {
    "name": "ipython",
    "version": 3
   },
   "file_extension": ".py",
   "mimetype": "text/x-python",
   "name": "python",
   "nbconvert_exporter": "python",
   "pygments_lexer": "ipython3",
   "version": "3.7.6"
  }
 },
 "nbformat": 4,
 "nbformat_minor": 4
}
