{
 "cells": [
  {
   "cell_type": "markdown",
   "metadata": {},
   "source": [
    "# overview 概述"
   ]
  },
  {
   "cell_type": "markdown",
   "metadata": {},
   "source": [
    "## description 描述"
   ]
  },
  {
   "cell_type": "markdown",
   "metadata": {},
   "source": [
    "Instead of waking to overlooked \"Do not disturb\" signs, \n",
    "Airbnb travelers find themselves rising with the birds in a whimsical treehouse, \n",
    "having their morning coffee on the deck of a houseboat, or cooking a shared regional breakfast with their hosts.\n",
    "\n",
    "描述了一幅 Airbnb 旅游者们的美好画面，纯粹打广告的 ^_^\n",
    "\n",
    "New users on Airbnb can book a place to stay in 34,000+ cities across 190+ countries. \n",
    "By accurately predicting where a new user will book their first travel experience, \n",
    "Airbnb can share more personalized content with their community, \n",
    "decrease the average time to first booking, and better forecast demand.\n",
    "\n",
    "表明 Airbnb 用户可以在全球横跨 190多个国家的34,000多个城市进行预订 \n",
    "\n",
    "为了准确预测新用户会选择那里进行第一次旅游体验，Airbnb 提供了数据\n",
    "\n",
    "In this recruiting competition, \n",
    "Airbnb challenges you to predict in which country a new user will make his or her first booking. \n",
    "Kagglers who impress with their answer (and an explanation of how they got there) will be considered \n",
    "for an interview for the opportunity to join Airbnb's Data Science and Analytics team.\n",
    "\n",
    "任务：预测 Aribnb 新用户会在那里进行第一次旅游的预订\n",
    "\n",
    "\n",
    "有可能获得 Airbnb 数据科学分析团队的面试机会\n",
    "\n",
    "Wondering if you're a good fit? \n",
    "Check out this article on how Airbnb scaled data science to all sides of their organization, \n",
    "and visit their careers page for more on Airbnb's mission to create a world that inspires human connection.\n",
    "\n",
    "可以查看 Aribnb 团队的一些文章"
   ]
  },
  {
   "cell_type": "markdown",
   "metadata": {},
   "source": [
    "![self](./../image/aribnb-home.png)"
   ]
  },
  {
   "cell_type": "markdown",
   "metadata": {},
   "source": [
    "## evaluation"
   ]
  },
  {
   "cell_type": "markdown",
   "metadata": {},
   "source": [
    "The evaluation metric for this competition is \n",
    "NDCG (Normalized discounted cumulative gain) @k where k=5.\n",
    "NDCG is calculated as:\n",
    "\n",
    "评测指标：NDCG（ k=5 ）\n",
    "\n",
    "如下图所示\n",
    "\n",
    "![self](./../image/evaluation-metric.png)\n",
    "\n",
    "Submission File\n",
    "For every user in the dataset, submission files should contain two columns: id and country\n",
    "The destination country predictions must be ordered such that the most probable destination country goes first.\n",
    "\n",
    "The file should contain a header and have the following format:\n",
    "\n",
    "id,country\n",
    "\n",
    "000am9932b,NDF\n",
    "\n",
    "000am9932b,US\n",
    "\n",
    "000am9932b,IT\n",
    "\n",
    "01wi37r0hw,FR\n",
    "\n",
    "etc.\n",
    "\n",
    "提交文件必须具备以下格式：用户ID 国家或者地区\n",
    "\n",
    "尽可能将新用户最有可能去的地方放在前面，每个新用户最多预测 5 个国家或者地区\n"
   ]
  },
  {
   "cell_type": "markdown",
   "metadata": {},
   "source": [
    "## timeline"
   ]
  },
  {
   "cell_type": "markdown",
   "metadata": {},
   "source": [
    "February 11, 2016 - Final submission deadline\n",
    "\n",
    "All deadlines are at 11:59 PM UTC on the corresponding day unless otherwise noted. \n",
    "\n",
    "The organizers reserve the right to update the contest timeline if they deem it necessary.\n"
   ]
  },
  {
   "cell_type": "code",
   "execution_count": null,
   "metadata": {},
   "outputs": [],
   "source": []
  }
 ],
 "metadata": {
  "kernelspec": {
   "display_name": "Python 3",
   "language": "python",
   "name": "python3"
  },
  "language_info": {
   "codemirror_mode": {
    "name": "ipython",
    "version": 3
   },
   "file_extension": ".py",
   "mimetype": "text/x-python",
   "name": "python",
   "nbconvert_exporter": "python",
   "pygments_lexer": "ipython3",
   "version": "3.7.6"
  }
 },
 "nbformat": 4,
 "nbformat_minor": 4
}
