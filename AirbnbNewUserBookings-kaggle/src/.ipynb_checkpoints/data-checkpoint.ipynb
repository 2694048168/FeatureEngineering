{
 "cells": [
  {
   "cell_type": "markdown",
   "metadata": {},
   "source": [
    "# data 数据"
   ]
  },
  {
   "cell_type": "markdown",
   "metadata": {},
   "source": [
    "## data description 数据描述"
   ]
  },
  {
   "cell_type": "markdown",
   "metadata": {},
   "source": [
    "In this challenge, you are given a list of users along with their demographics, \n",
    "web session records, and some summary statistics. \n",
    "You are asked to predict which country a new user's first booking destination will be. \n",
    "All the users in this dataset are from the USA.\n",
    "\n",
    "用户列表含有其对应人口统计信息\n",
    "\n",
    "浏览器的浏览交互记录信息\n",
    "\n",
    "还有一些摘要似的统计信息\n",
    "\n",
    "所有的用户均来自美国\n",
    "\n",
    "There are 12 possible outcomes of the destination country: \n",
    " 'US', 'FR', 'CA', 'GB', 'ES', 'IT', 'PT', 'NL','DE', 'AU', 'NDF' (no destination found), and 'other'. \n",
    "Please note that 'NDF' is different from 'other' because 'other' means there was a booking, \n",
    "but is to a country not included in the list, while 'NDF' means there wasn't a booking.\n",
    "\n",
    "总共有十二个选择结果，注意 NDF 和 other 的区别\n",
    "\n",
    "NDF 是没有这个地方，没有预定\n",
    "\n",
    "other 是有预定，只不过没有在选择结果列表中\n",
    "\n",
    "The training and test sets are split by dates. \n",
    "In the test set, you will predict all the new users with first activities after 7/1/2014 \n",
    "(note: this is updated on 12/5/15 when the competition restarted). \n",
    "In the sessions dataset, the data only dates back to 1/1/2014, \n",
    "while the users dataset dates back to 2010. \n",
    "\n",
    "训练集和测试集都是按照日期划分\n",
    "\n",
    "测试集中，预测新用户（2014年7月1日之后）\n",
    "\n",
    "在 sessions 数据集中，数据只能追溯到 2014年1月1日\n",
    "\n",
    "用户数据只能追溯到 2010年\n"
   ]
  },
  {
   "cell_type": "markdown",
   "metadata": {},
   "source": [
    "## file description\n",
    "\n",
    "- train_users.csv - the training set of users（用户训练集）\n",
    "- test_users.csv - the test set of users（用户测试集）\n",
    "    - id: user id（用户ID）\n",
    "    - date_account_created: the date of account creation（账号注册时间）\n",
    "    - timestamp_first_active: timestamp of the first activity, note that it can be earlier than date_account_created or date_first_booking because a user can search before signing up（首次活跃时间）\n",
    "    - date_first_booking: date of first booking（首次预定时间）\n",
    "    - gender（性别）\n",
    "    - age（年龄）\n",
    "    - signup_method（注册方式）\n",
    "    - signup_flow: the page a user came to signup up from（注册页面）\n",
    "    - language: international language preference（语言）\n",
    "    - affiliate_channel: what kind of paid marketing（付费渠道）\n",
    "    - affiliate_provider: where the marketing is e.g. google, craigslist, other（付费渠道平台名称）\n",
    "    - first_affiliate_tracked: whats the first marketing the user interacted with before the signing up（注册前接触的第一渠道）\n",
    "    - signup_app（注册APP）\n",
    "    - first_device_type（移动设备类型）\n",
    "    - first_browser（浏览器类型）\n",
    "    - country_destination: this is the target variable you are to predict（预定的国家或者地区）\n",
    "    \n",
    "    \n",
    "- sessions.csv - web sessions log for users（浏览器交互记录数据集）\n",
    "    - user_id: to be joined with the column 'id' in users table（用户ID）\n",
    "    - action（交互行为）\n",
    "    - action_type（交互行为类型）\n",
    "    - action_detail（交互具体的行为）\n",
    "    - device_type（设备类型）\n",
    "    - secs_elapsed（交互停留时长）\n",
    "\n",
    "\n",
    "- countries.csv - summary statistics of destination countries in this dataset and their locations（国家或者地区数据集，具有一定统计信息）\n",
    "\n",
    "- age_gender_bkts.csv - summary statistics of users' age group, gender, country of destination（用户的分组等统计信息）\n",
    "\n",
    "- sample_submission.csv - correct format for submitting your predictions（提交文件的样本）"
   ]
  },
  {
   "cell_type": "code",
   "execution_count": null,
   "metadata": {},
   "outputs": [],
   "source": []
  }
 ],
 "metadata": {
  "kernelspec": {
   "display_name": "Python 3",
   "language": "python",
   "name": "python3"
  },
  "language_info": {
   "codemirror_mode": {
    "name": "ipython",
    "version": 3
   },
   "file_extension": ".py",
   "mimetype": "text/x-python",
   "name": "python",
   "nbconvert_exporter": "python",
   "pygments_lexer": "ipython3",
   "version": "3.7.6"
  }
 },
 "nbformat": 4,
 "nbformat_minor": 4
}
