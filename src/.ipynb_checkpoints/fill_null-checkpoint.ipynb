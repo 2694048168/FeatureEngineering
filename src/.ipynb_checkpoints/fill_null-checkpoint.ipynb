{
 "cells": [
  {
   "cell_type": "code",
   "execution_count": 1,
   "metadata": {},
   "outputs": [],
   "source": [
    "# 填充空值 (fill null) 的几种方法\n",
    "\n",
    "# 1、用固定值填充\n",
    "# 2、用均值填充\n",
    "# 3、用众数填充\n",
    "# 4、用上下数据进行填充\n",
    "# 5、用插值法填充\n",
    "# 6、用 KNN 进行填充\n",
    "# 7、random forest 进行填充\n",
    "# 8、"
   ]
  },
  {
   "cell_type": "code",
   "execution_count": 2,
   "metadata": {},
   "outputs": [],
   "source": [
    "# 1 用固定值填充\n",
    "#   对于特征值缺失的一种常见的方法就是可以用固定值来填充\n",
    "#      例如 0，9999， -9999, 例如下面对灰度分这个特征缺失值全部填充为-99\n",
    "\n",
    "# data['灰度分'] = data['灰度分'].fillna('-99')\n"
   ]
  },
  {
   "cell_type": "code",
   "execution_count": 3,
   "metadata": {},
   "outputs": [],
   "source": [
    "# 2 用均值填充\n",
    "#   对于数值型的特征，其缺失值也可以用未缺失数据的均值填充\n",
    "#   下面对灰度分这个特征缺失值进行均值填充\n",
    "\n",
    "# data['灰度分'] = data['灰度分'].fillna(data['灰度分'].mean()))\n"
   ]
  },
  {
   "cell_type": "code",
   "execution_count": 4,
   "metadata": {},
   "outputs": [],
   "source": [
    "# 3 用众数填充\n",
    "#   与均值类似，可以用未缺失数据的众数来填充缺失值\n",
    "\n",
    "# data['灰度分'] = data['灰度分'].fillna(data['灰度分'].mode()))\n"
   ]
  },
  {
   "cell_type": "code",
   "execution_count": 5,
   "metadata": {},
   "outputs": [],
   "source": [
    "# 4 用上下数据进行填充\n",
    "\n",
    "# 用前一个数据进行填充\n",
    "# data['灰度分'] = data['灰度分'].fillna(method='pad')\n",
    "\n",
    "# 用后一个数据进行填充\n",
    "# data['灰度分'] = data['灰度分'].fillna(method='bfill')\n"
   ]
  },
  {
   "cell_type": "code",
   "execution_count": 6,
   "metadata": {},
   "outputs": [],
   "source": [
    "# 5 用插值法填充\n",
    "\n",
    "# data['灰度分'] = data['灰度分'].interpolate()\n"
   ]
  },
  {
   "cell_type": "code",
   "execution_count": 7,
   "metadata": {},
   "outputs": [],
   "source": [
    "# 6 用 KNN 进行填充\n",
    "\n",
    "# from fancyimpute import BiScaler, KNN, NuclearNormMinimization, SoftImpute\n",
    "\n",
    "# dataset = KNN(k=3).complete(dataset)\n"
   ]
  },
  {
   "cell_type": "code",
   "execution_count": 8,
   "metadata": {},
   "outputs": [],
   "source": [
    "# # 7 random forest 进行填充\n",
    "\n",
    "# from sklearn.ensemble import RandomForestRegressor\n",
    "# zero_columns_2 = ['机构查询数量', '直接联系人数量', '直接联系人在黑名单数量', '间接联系人在黑名单数量',\n",
    "#                 '引起黑名单的直接联系人数量', '引起黑名单的直接联系人占比']\n",
    "\n",
    "# #将出现空值的除了预测的列全部取出来，不用于训练                \n",
    "# dataset_list2 = [x for x in dataset if x not in zero_columns_2]\n",
    "# dataset_2 = dataset[dataset_list2]\n",
    "\n",
    "# # 取出灰度分不为空的全部样本进行训练\n",
    "# know = dataset_2[dataset_2['灰度分'].notnull()]\n",
    "# print(know.shape) #26417, 54\n",
    "\n",
    "# # 取出灰度分为空的样本用于填充空值\n",
    "# unknow = dataset_2[dataset_2['灰度分'].isnull()]\n",
    "# print(unknow.shape) #2078, 54\n",
    "\n",
    "# y = ['灰度分']\n",
    "# x = [1]\n",
    "\n",
    "# know_x2 = know.copy()\n",
    "# know_y2 = know.copy()\n",
    "# print(know_y2.shape)\n",
    "# #\n",
    "# know_x2.drop(know_x2.columns[x], axis=1, inplace=True)\n",
    "# print(know_y2.shape)\n",
    "# print(know_x2.shape)\n",
    "# #\n",
    "# know_y2 = know[y]\n",
    "# # RandomForestRegressor\n",
    "# rfr = RandomForestRegressor(random_state=666, n_estimators=2000, n_jobs=-1)\n",
    "# rfr.fit(know_x2, know_y2)\n",
    "\n",
    "# # 填充为空的样本\n",
    "# unknow_x2 = unknow.copy()\n",
    "# unknow_x2.drop(unknow_x2.columns[x], axis=1, inplace=True)\n",
    "# print(unknow_x2.shape) #(2078, 53)\n",
    "# unknow_y2 = rfr.predict(unknow_x2)\n",
    "# unknow_y2 = pd.DataFrame(unknow_y2, columns=['灰度分'])\n"
   ]
  },
  {
   "cell_type": "code",
   "execution_count": 9,
   "metadata": {},
   "outputs": [],
   "source": [
    "# # 使用 fancyimpute 包中的其他方法\n",
    "\n",
    "# # matrix completion using convex optimization to find low-rank solution\n",
    "# # that still matches observed values. Slow!\n",
    "# X_filled_nnm = NuclearNormMinimization().complete(X_incomplete)\n",
    "\n",
    "\n",
    "# # Instead of solving the nuclear norm objective directly, instead\n",
    "# # induce sparsity using singular value thresholding\n",
    "# X_filled_softimpute = SoftImpute().complete(X_incomplete_normalized)\n",
    "\n",
    "\n",
    "# # print mean squared error for the three imputation methods above\n",
    "# nnm_mse = ((X_filled_nnm[missing_mask] - X[missing_mask]) ** 2).mean()\n",
    "# # print mean squared error for the three imputation methods above\n",
    "# nnm_mse = ((X_filled_nnm[missing_mask] - X[missing_mask]) ** 2).mean()\n",
    "# print(\"Nuclear norm minimization MSE: %f\" % nnm_mse)\n",
    "\n",
    "# softImpute_mse = ((X_filled_softimpute[missing_mask] - X[missing_mask]) ** 2).mean()\n",
    "# print(\"SoftImpute MSE: %f\" % softImpute_mse)\n",
    "\n",
    "# knn_mse = ((X_filled_knn[missing_mask] - X[missing_mask]) ** 2).mean()\n",
    "# print(\"knnImpute MSE: %f\" % knn_mse)"
   ]
  },
  {
   "cell_type": "code",
   "execution_count": null,
   "metadata": {},
   "outputs": [],
   "source": []
  }
 ],
 "metadata": {
  "kernelspec": {
   "display_name": "Python 3",
   "language": "python",
   "name": "python3"
  },
  "language_info": {
   "codemirror_mode": {
    "name": "ipython",
    "version": 3
   },
   "file_extension": ".py",
   "mimetype": "text/x-python",
   "name": "python",
   "nbconvert_exporter": "python",
   "pygments_lexer": "ipython3",
   "version": "3.7.6"
  }
 },
 "nbformat": 4,
 "nbformat_minor": 4
}
