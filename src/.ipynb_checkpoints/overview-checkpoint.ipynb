{
 "cells": [
  {
   "cell_type": "code",
   "execution_count": 1,
   "metadata": {},
   "outputs": [],
   "source": [
    "# 机器学习 就是将数据拟合到数学模型中得到结论或者作出预测行为\n",
    "\n",
    "# 特征 就是原始数据在某方面的数学表现\n",
    "\n",
    "# 特征 位于 数据 和 模型 之间\n",
    "# 特征工程 是一项从 数据 中提取特征，然后转换成适合机器学习模型格式的一门艺术\n",
    "\n",
    "# 正确的特征只能在模型和数据的背景中定义\n"
   ]
  },
  {
   "cell_type": "code",
   "execution_count": 2,
   "metadata": {},
   "outputs": [],
   "source": [
    "# 掌握 就是要准确地知道如何完成某件事，对底层原则有一个感觉，并将其整合到自己的知识网络中\n",
    "\n",
    "# 生命是有限的，知识是无限的\n",
    "# 学习知识并不仅仅为了理论和实践，更重要的是其背后的设计思想，抽象来讲就是知识背后的智慧\n",
    "\n"
   ]
  },
  {
   "cell_type": "code",
   "execution_count": 3,
   "metadata": {},
   "outputs": [],
   "source": [
    "# 机器学习流水线\n",
    "# the Machine Learning Pipeline\n",
    "\n",
    "# 1 data —— what we call data are observations of real-word phenomena\n",
    "# 数据 —— 是对现实世界现象的观察\n",
    "\n",
    "# 2 tasks —— the path from data to answers is full false starts and dead ends\n",
    "#            what starts out as a promising approach may not pan out\n",
    "#            what was originally just a hunch may end up leading to the best solution\n",
    "#            workflows with data are frequently multistage, iterative processes\n",
    "# 任务 —— 从数据中获取答案的路途充满了谜题\n",
    "#        最开始充满希望的方法可能行不通\n",
    "#       最初只是一个预感却可能是最佳解决方案\n",
    "#      数据的工作流程通常是一个多阶段的迭代过程"
   ]
  },
  {
   "cell_type": "markdown",
   "metadata": {},
   "source": [
    "![self](./../image/figure1-1.png)"
   ]
  },
  {
   "cell_type": "code",
   "execution_count": 4,
   "metadata": {},
   "outputs": [],
   "source": [
    "# 3 models —— trying to understand the world through data is like trying to piece together reality using a noisy, \n",
    "#            incomplete jiasaw puzzle with a bunch of extra pieces\n",
    "# 模型 —— 尝试着从数据中了解世界就像用不完整的拼图以及一堆额外的碎片拼凑出现实\n",
    "#        误差数据是测量中的错误导致的\n",
    "#        冗余数据意味着数据的多个方面传达完全相同的信息\n",
    "#        如果某些数据点中不存在这种共同的信息，那么这个数据就产生了缺失\n",
    "#      数据的数学模型描述数据不同方面的关系\n",
    "\n",
    "# mathematical formulas relate numeric quantities to each other\n",
    "# but raw data is often not numeric\n",
    "# there must be a piece that connects the two together, this is where features come in\n",
    "# 数学公式将数量相互关联\n",
    "# 但是原始数据通常不是数字\n",
    "# 必须有一样东西把两者连接在一起，这就是特征的由来"
   ]
  },
  {
   "cell_type": "code",
   "execution_count": 5,
   "metadata": {},
   "outputs": [],
   "source": [
    "# 4 features —— a feature is a numeric representation of raw data\n",
    "#              there are many ways to turn raw data into numeric measurements, \n",
    "#                   which is why features can end up looking like a lot of things\n",
    "# 特征 —— 原始数据的数学表示\n",
    "#        很多方法可以将原始数据转换为数学测量值，这也是为什么特征最终看起来与许多事情相似\n",
    "#        特征工程是指给定数据、模型和任务是制定最佳特征的过程\n",
    "\n",
    "# the number of features is also important\n",
    "# if there are not enouhgh informative features, then the model will be unable to perform the ultimate task\n",
    "# if there are too many features, or if most of them are irrelevant, then the model will be more expensive and tricky to train\n",
    "# something might go away in the training process that impacts the model's performance\n",
    "# 特征的数量也是很重要的，如果没有足够的信息特征，模型就无法完成最终的任务\n",
    "#                      如果存在太多的特征，或者如果它们大多数是无关紧要的，那么训练这个模型会更加的棘手并且代价更多\n",
    "#                       而且训练过程中可能会出现一些错误影响模型的表现"
   ]
  },
  {
   "cell_type": "code",
   "execution_count": 6,
   "metadata": {},
   "outputs": [],
   "source": [
    "# 5 features and models sit between raw data and the desired insights\n",
    "# 模型评估 —— 特征和模型位于原始数据和期望的观察结果之间"
   ]
  },
  {
   "cell_type": "markdown",
   "metadata": {},
   "source": [
    "![self](./../image/figure1-2.png)"
   ]
  },
  {
   "cell_type": "code",
   "execution_count": null,
   "metadata": {},
   "outputs": [],
   "source": []
  }
 ],
 "metadata": {
  "kernelspec": {
   "display_name": "Python 3",
   "language": "python",
   "name": "python3"
  },
  "language_info": {
   "codemirror_mode": {
    "name": "ipython",
    "version": 3
   },
   "file_extension": ".py",
   "mimetype": "text/x-python",
   "name": "python",
   "nbconvert_exporter": "python",
   "pygments_lexer": "ipython3",
   "version": "3.7.6"
  }
 },
 "nbformat": 4,
 "nbformat_minor": 4
}
