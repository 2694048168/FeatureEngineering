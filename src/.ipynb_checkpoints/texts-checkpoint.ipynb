{
 "cells": [
  {
   "cell_type": "code",
   "execution_count": 1,
   "metadata": {},
   "outputs": [],
   "source": [
    "# 文本数据: 展开、过滤和分块\n",
    "\n",
    "# 词袋（bags of words）开始，这是基于字数统计的最简单的文本功能\n",
    "\n",
    "# 一个非常相关的变换是 tf-idf，它本质上是一种特征缩放技术\n"
   ]
  },
  {
   "cell_type": "code",
   "execution_count": null,
   "metadata": {},
   "outputs": [],
   "source": [
    "# 总结\n",
    "# 词袋模型易于理解和计算，对分类和搜索任务很有用\n",
    "# 但有时单个单词太简单，不足以将文本中的某些信息封装起来\n",
    "# 为了解决这个问题，人们寄希望于比较长的序列\n",
    "# Bag-of-ngram 是 BOW 的自然概括，这个概念仍然容于理解，而且它的计算开销这就像 BOW 一样容易\n",
    "\n",
    "# Bag of-ngram 生成更多不同的 ngram\n",
    "# 它增加了特征存储成本，以及模型训练和预测阶段的计算成本\n",
    "# 虽然数据点的数量保持不变，但特征空间的维度现在更大\n",
    "# 因此数据密度更为稀疏\n",
    "# n 越高，存储和计算成本越高，数据越稀疏\n",
    "# 由于这些原因，较长的 n-gram 并不总是会使模型精度的得到提高（或任何其他性能指标）\n",
    "\n",
    "# 防止稀疏性和成本增加的一种方法是过滤 n-gram 并保留最有意义的短语\n",
    "# 这是搭配抽取的目标。理论上，搭配（或短语）可以在文本中形成非连续的标记序列\n",
    "# 然而，在实践中，寻找非连续词组的计算成本要高得多并且没有太多的收益\n",
    "\n",
    "# 所有这些方法都将一系列文本标记转换为一组断开的计数\n",
    "# 与一个序列相比，一个集合的结构要少得多；他们导致平面特征向量\n",
    "\n",
    "# 用简单的语言描述文本特征化技术\n",
    "# 这些技术将一段充满丰富语义结构的自然语言文本转化为一个简单的平面向量\n",
    "# 讨论一些常用的过滤技术来降低向量维度\n",
    "# 还引入了 ngram 和搭配抽取作为方法，在平面向量中添加更多的结构\n",
    "\n"
   ]
  }
 ],
 "metadata": {
  "kernelspec": {
   "display_name": "Python 3",
   "language": "python",
   "name": "python3"
  },
  "language_info": {
   "codemirror_mode": {
    "name": "ipython",
    "version": 3
   },
   "file_extension": ".py",
   "mimetype": "text/x-python",
   "name": "python",
   "nbconvert_exporter": "python",
   "pygments_lexer": "ipython3",
   "version": "3.7.6"
  }
 },
 "nbformat": 4,
 "nbformat_minor": 4
}
